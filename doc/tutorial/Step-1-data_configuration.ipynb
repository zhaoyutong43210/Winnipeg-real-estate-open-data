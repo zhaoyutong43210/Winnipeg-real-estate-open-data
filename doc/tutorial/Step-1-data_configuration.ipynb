{
 "cells": [
  {
   "cell_type": "markdown",
   "metadata": {},
   "source": [
    "# Data configuration: Winnipeg Real Estate public data"
   ]
  },
  {
   "cell_type": "code",
   "execution_count": 1,
   "metadata": {},
   "outputs": [],
   "source": [
    "from wpgdata.data import wpgdata_cfg\n",
    "import numpy as np\n",
    "import pandas as pd\n",
    "import matplotlib.pyplot as plt"
   ]
  },
  {
   "cell_type": "markdown",
   "metadata": {},
   "source": [
    "### Create a data configurator object"
   ]
  },
  {
   "cell_type": "code",
   "execution_count": 2,
   "metadata": {},
   "outputs": [
    {
     "data": {
      "text/plain": [
       "WindowsPath('i:/github/Winnipeg-real-estate-open-data/Winnipeg_real_estate_open_data')"
      ]
     },
     "execution_count": 2,
     "metadata": {},
     "output_type": "execute_result"
    }
   ],
   "source": [
    "dcfg = wpgdata_cfg()\n",
    "dcfg.data_save_path"
   ]
  },
  {
   "cell_type": "markdown",
   "metadata": {},
   "source": [
    "### Automatically download the full data files from website"
   ]
  },
  {
   "cell_type": "code",
   "execution_count": 4,
   "metadata": {
    "scrolled": true
   },
   "outputs": [
    {
     "name": "stdout",
     "output_type": "stream",
     "text": [
      "year=2012\n",
      "https://assessment.winnipeg.ca/AsmtTax/pdfs/SelfService/2012/sales_book_market_region_1.pdf\n",
      "https://assessment.winnipeg.ca/AsmtTax/pdfs/SelfService/2012/sales_book_market_region_2.pdf\n",
      "https://assessment.winnipeg.ca/AsmtTax/pdfs/SelfService/2012/sales_book_market_region_3.pdf\n",
      "https://assessment.winnipeg.ca/AsmtTax/pdfs/SelfService/2012/sales_book_market_region_4.pdf\n",
      "https://assessment.winnipeg.ca/AsmtTax/pdfs/SelfService/2012/sales_book_market_region_5.pdf\n",
      "https://assessment.winnipeg.ca/AsmtTax/pdfs/SelfService/2012/sales_book_market_region_6.pdf\n",
      "https://assessment.winnipeg.ca/AsmtTax/pdfs/SelfService/2012/sales_book_market_region_7.pdf\n",
      "https://assessment.winnipeg.ca/AsmtTax/pdfs/SelfService/2012/sales_book_market_region_8.pdf\n",
      "https://assessment.winnipeg.ca/AsmtTax/pdfs/SelfService/2012/sales_book_market_region_9.pdf\n",
      "https://assessment.winnipeg.ca/AsmtTax/pdfs/SelfService/2012/sales_book_market_region_10.pdf\n",
      "https://assessment.winnipeg.ca/AsmtTax/pdfs/SelfService/2012/sales_book_condominium.pdf\n",
      "year=2014\n",
      "https://assessment.winnipeg.ca/AsmtTax/pdfs/SelfService/2014/sales_book_market_region_1.pdf\n",
      "https://assessment.winnipeg.ca/AsmtTax/pdfs/SelfService/2014/sales_book_market_region_2.pdf\n",
      "https://assessment.winnipeg.ca/AsmtTax/pdfs/SelfService/2014/sales_book_market_region_3.pdf\n",
      "https://assessment.winnipeg.ca/AsmtTax/pdfs/SelfService/2014/sales_book_market_region_4.pdf\n",
      "https://assessment.winnipeg.ca/AsmtTax/pdfs/SelfService/2014/sales_book_market_region_5.pdf\n",
      "https://assessment.winnipeg.ca/AsmtTax/pdfs/SelfService/2014/sales_book_market_region_6.pdf\n",
      "https://assessment.winnipeg.ca/AsmtTax/pdfs/SelfService/2014/sales_book_market_region_7.pdf\n",
      "https://assessment.winnipeg.ca/AsmtTax/pdfs/SelfService/2014/sales_book_market_region_8.pdf\n",
      "https://assessment.winnipeg.ca/AsmtTax/pdfs/SelfService/2014/sales_book_market_region_9.pdf\n",
      "https://assessment.winnipeg.ca/AsmtTax/pdfs/SelfService/2014/sales_book_market_region_10.pdf\n",
      "https://assessment.winnipeg.ca/AsmtTax/pdfs/SelfService/2014/sales_book_condominium.pdf\n",
      "year=2016\n",
      "https://assessment.winnipeg.ca/AsmtTax/pdfs/SelfService/2016/sales_book_market_region_1.pdf\n",
      "https://assessment.winnipeg.ca/AsmtTax/pdfs/SelfService/2016/sales_book_market_region_2.pdf\n",
      "https://assessment.winnipeg.ca/AsmtTax/pdfs/SelfService/2016/sales_book_market_region_3.pdf\n",
      "https://assessment.winnipeg.ca/AsmtTax/pdfs/SelfService/2016/sales_book_market_region_4.pdf\n",
      "https://assessment.winnipeg.ca/AsmtTax/pdfs/SelfService/2016/sales_book_market_region_5.pdf\n",
      "https://assessment.winnipeg.ca/AsmtTax/pdfs/SelfService/2016/sales_book_market_region_6.pdf\n",
      "https://assessment.winnipeg.ca/AsmtTax/pdfs/SelfService/2016/sales_book_market_region_7.pdf\n",
      "https://assessment.winnipeg.ca/AsmtTax/pdfs/SelfService/2016/sales_book_market_region_8.pdf\n",
      "https://assessment.winnipeg.ca/AsmtTax/pdfs/SelfService/2016/sales_book_market_region_9.pdf\n",
      "https://assessment.winnipeg.ca/AsmtTax/pdfs/SelfService/2016/sales_book_market_region_10.pdf\n",
      "https://assessment.winnipeg.ca/AsmtTax/pdfs/SelfService/2016/sales_book_condominium.pdf\n",
      "year=2018\n",
      "https://assessment.winnipeg.ca/AsmtTax/pdfs/SelfService/sales_book_market_region_1.pdf\n",
      "https://assessment.winnipeg.ca/AsmtTax/pdfs/SelfService/sales_book_market_region_2.pdf\n",
      "https://assessment.winnipeg.ca/AsmtTax/pdfs/SelfService/sales_book_market_region_3.pdf\n",
      "https://assessment.winnipeg.ca/AsmtTax/pdfs/SelfService/sales_book_market_region_4.pdf\n",
      "https://assessment.winnipeg.ca/AsmtTax/pdfs/SelfService/sales_book_market_region_5.pdf\n",
      "https://assessment.winnipeg.ca/AsmtTax/pdfs/SelfService/sales_book_market_region_6.pdf\n",
      "https://assessment.winnipeg.ca/AsmtTax/pdfs/SelfService/sales_book_market_region_7.pdf\n",
      "https://assessment.winnipeg.ca/AsmtTax/pdfs/SelfService/sales_book_market_region_8.pdf\n",
      "https://assessment.winnipeg.ca/AsmtTax/pdfs/SelfService/sales_book_market_region_9.pdf\n",
      "https://assessment.winnipeg.ca/AsmtTax/pdfs/SelfService/sales_book_market_region_10.pdf\n",
      "https://assessment.winnipeg.ca/AsmtTax/pdfs/SelfService/sales_book_condominium.pdf\n",
      "year=2021\n",
      "https://assessment.winnipeg.ca/AsmtTax/pdfs/SelfService/2021/sales_book_market_region_1.pdf\n",
      "https://assessment.winnipeg.ca/AsmtTax/pdfs/SelfService/2021/sales_book_market_region_2.pdf\n",
      "https://assessment.winnipeg.ca/AsmtTax/pdfs/SelfService/2021/sales_book_market_region_3.pdf\n",
      "https://assessment.winnipeg.ca/AsmtTax/pdfs/SelfService/2021/sales_book_market_region_4.pdf\n",
      "https://assessment.winnipeg.ca/AsmtTax/pdfs/SelfService/2021/sales_book_market_region_5.pdf\n",
      "https://assessment.winnipeg.ca/AsmtTax/pdfs/SelfService/2021/sales_book_market_region_6.pdf\n",
      "https://assessment.winnipeg.ca/AsmtTax/pdfs/SelfService/2021/sales_book_market_region_7.pdf\n",
      "https://assessment.winnipeg.ca/AsmtTax/pdfs/SelfService/2021/sales_book_market_region_8.pdf\n",
      "https://assessment.winnipeg.ca/AsmtTax/pdfs/SelfService/2021/sales_book_market_region_9.pdf\n",
      "https://assessment.winnipeg.ca/AsmtTax/pdfs/SelfService/2021/sales_book_market_region_10.pdf\n",
      "https://assessment.winnipeg.ca/AsmtTax/pdfs/SelfService/2021/sales_book_condominium.pdf\n"
     ]
    }
   ],
   "source": [
    "full_urls = dcfg.full_salebooks_urls()\n",
    "for year in full_urls:\n",
    "    print(f'year={year}')\n",
    "    for salebook_url in full_urls[year]: \n",
    "        print(salebook_url)\n",
    "        "
   ]
  },
  {
   "cell_type": "markdown",
   "metadata": {},
   "source": [
    "display all sale book files. "
   ]
  },
  {
   "cell_type": "code",
   "execution_count": 5,
   "metadata": {},
   "outputs": [
    {
     "name": "stdout",
     "output_type": "stream",
     "text": [
      "2012\n",
      "2012\\sales_book_market_region_1.pdf\n",
      "2012\\sales_book_market_region_2.pdf\n",
      "2012\\sales_book_market_region_3.pdf\n",
      "2012\\sales_book_market_region_4.pdf\n",
      "2012\\sales_book_market_region_5.pdf\n",
      "2012\\sales_book_market_region_6.pdf\n",
      "2012\\sales_book_market_region_7.pdf\n",
      "2012\\sales_book_market_region_8.pdf\n",
      "2012\\sales_book_market_region_9.pdf\n",
      "2012\\sales_book_market_region_10.pdf\n",
      "2012\\sales_book_condominium.pdf\n",
      "2014\n",
      "2014\\sales_book_market_region_1.pdf\n",
      "2014\\sales_book_market_region_2.pdf\n",
      "2014\\sales_book_market_region_3.pdf\n",
      "2014\\sales_book_market_region_4.pdf\n",
      "2014\\sales_book_market_region_5.pdf\n",
      "2014\\sales_book_market_region_6.pdf\n",
      "2014\\sales_book_market_region_7.pdf\n",
      "2014\\sales_book_market_region_8.pdf\n",
      "2014\\sales_book_market_region_9.pdf\n",
      "2014\\sales_book_market_region_10.pdf\n",
      "2014\\sales_book_condominium.pdf\n",
      "2016\n",
      "2016\\sales_book_market_region_1.pdf\n",
      "2016\\sales_book_market_region_2.pdf\n",
      "2016\\sales_book_market_region_3.pdf\n",
      "2016\\sales_book_market_region_4.pdf\n",
      "2016\\sales_book_market_region_5.pdf\n",
      "2016\\sales_book_market_region_6.pdf\n",
      "2016\\sales_book_market_region_7.pdf\n",
      "2016\\sales_book_market_region_8.pdf\n",
      "2016\\sales_book_market_region_9.pdf\n",
      "2016\\sales_book_market_region_10.pdf\n",
      "2016\\sales_book_condominium.pdf\n",
      "2018\n",
      "2018\\sales_book_market_region_1.pdf\n",
      "2018\\sales_book_market_region_2.pdf\n",
      "2018\\sales_book_market_region_3.pdf\n",
      "2018\\sales_book_market_region_4.pdf\n",
      "2018\\sales_book_market_region_5.pdf\n",
      "2018\\sales_book_market_region_6.pdf\n",
      "2018\\sales_book_market_region_7.pdf\n",
      "2018\\sales_book_market_region_8.pdf\n",
      "2018\\sales_book_market_region_9.pdf\n",
      "2018\\sales_book_market_region_10.pdf\n",
      "2018\\sales_book_condominium.pdf\n",
      "2021\n",
      "2021\\sales_book_market_region_1.pdf\n",
      "2021\\sales_book_market_region_2.pdf\n",
      "2021\\sales_book_market_region_3.pdf\n",
      "2021\\sales_book_market_region_4.pdf\n",
      "2021\\sales_book_market_region_5.pdf\n",
      "2021\\sales_book_market_region_6.pdf\n",
      "2021\\sales_book_market_region_7.pdf\n",
      "2021\\sales_book_market_region_8.pdf\n",
      "2021\\sales_book_market_region_9.pdf\n",
      "2021\\sales_book_market_region_10.pdf\n",
      "2021\\sales_book_condominium.pdf\n"
     ]
    }
   ],
   "source": [
    "full_path =  dcfg.full_salebooks_paths()\n",
    "for year in full_path:\n",
    "    print(year)\n",
    "    for salebook_path in full_path[year]: \n",
    "        print(salebook_path)"
   ]
  },
  {
   "cell_type": "code",
   "execution_count": 6,
   "metadata": {},
   "outputs": [
    {
     "name": "stdout",
     "output_type": "stream",
     "text": [
      "The pdf dataset is complete in local\n"
     ]
    }
   ],
   "source": [
    "if dcfg.data_validator(): \n",
    "    print('The pdf dataset is complete in local')\n",
    "else:\n",
    "    dcfg.auto_download()"
   ]
  },
  {
   "cell_type": "code",
   "execution_count": 7,
   "metadata": {},
   "outputs": [],
   "source": [
    "path = dcfg.data_save_path / dcfg.data_filename(year=2018, type='house', region=1)\n",
    "dcfg.get_headers(fpath=path)"
   ]
  },
  {
   "cell_type": "markdown",
   "metadata": {},
   "source": [
    "Check the headerinfo, with start index, end index and the header string. Always compare with the PDF file if more data (after 2021) is released. The next release is "
   ]
  },
  {
   "cell_type": "code",
   "execution_count": 8,
   "metadata": {
    "scrolled": true
   },
   "outputs": [
    {
     "data": {
      "text/plain": [
       "[[24, 43, 'Property    Address'],\n",
       " [90, 101, 'Roll Number'],\n",
       " [110, 126, 'Building    Type'],\n",
       " [153, 163, 'Sale  Year'],\n",
       " [172, 183, 'Sale  Month'],\n",
       " [193, 204, 'Sale  Price'],\n",
       " [223, 236, 'Time   Adjust']]"
      ]
     },
     "execution_count": 8,
     "metadata": {},
     "output_type": "execute_result"
    }
   ],
   "source": [
    "dcfg._headerinfo"
   ]
  },
  {
   "cell_type": "code",
   "execution_count": 9,
   "metadata": {},
   "outputs": [
    {
     "data": {
      "text/plain": [
       "['Property Address',\n",
       " 'Roll Number',\n",
       " 'Building Type',\n",
       " 'Sale Year',\n",
       " 'Sale Month',\n",
       " 'Sale Price',\n",
       " 'Time Adjust']"
      ]
     },
     "execution_count": 9,
     "metadata": {},
     "output_type": "execute_result"
    }
   ],
   "source": [
    "dcfg._headers"
   ]
  },
  {
   "cell_type": "code",
   "execution_count": 10,
   "metadata": {},
   "outputs": [],
   "source": [
    "pdfinfo = dcfg.pdf_to_datafram(fpath=path, trigger_str=[['Address', 'Roll'], ['Page', 'of']])\n",
    "# pdfinfo = dcfg.pdf_to_datafram(fpath=path)"
   ]
  },
  {
   "cell_type": "code",
   "execution_count": 11,
   "metadata": {
    "scrolled": true
   },
   "outputs": [
    {
     "data": {
      "text/html": [
       "<div>\n",
       "<style scoped>\n",
       "    .dataframe tbody tr th:only-of-type {\n",
       "        vertical-align: middle;\n",
       "    }\n",
       "\n",
       "    .dataframe tbody tr th {\n",
       "        vertical-align: top;\n",
       "    }\n",
       "\n",
       "    .dataframe thead th {\n",
       "        text-align: right;\n",
       "    }\n",
       "</style>\n",
       "<table border=\"1\" class=\"dataframe\">\n",
       "  <thead>\n",
       "    <tr style=\"text-align: right;\">\n",
       "      <th></th>\n",
       "      <th>Property Address</th>\n",
       "      <th>Roll Number</th>\n",
       "      <th>Building Type</th>\n",
       "      <th>Sale Year</th>\n",
       "      <th>Sale Month</th>\n",
       "      <th>Sale Price</th>\n",
       "      <th>Time Adjust</th>\n",
       "    </tr>\n",
       "  </thead>\n",
       "  <tbody>\n",
       "    <tr>\n",
       "      <th>0</th>\n",
       "      <td>618 MELROSE AVE W 0</td>\n",
       "      <td>9005552500</td>\n",
       "      <td>OS-ONE STOREY</td>\n",
       "      <td>2017</td>\n",
       "      <td>03</td>\n",
       "      <td>$ 235000</td>\n",
       "      <td>$ 240400</td>\n",
       "    </tr>\n",
       "    <tr>\n",
       "      <th>1</th>\n",
       "      <td>631 MELROSE AVE W 0</td>\n",
       "      <td>9005510000</td>\n",
       "      <td>OS-ONE STOREY</td>\n",
       "      <td>2016</td>\n",
       "      <td>09</td>\n",
       "      <td>$ 238631</td>\n",
       "      <td>$ 246700</td>\n",
       "    </tr>\n",
       "    <tr>\n",
       "      <th>2</th>\n",
       "      <td>709 MELROSE AVE W 0</td>\n",
       "      <td>9005519500</td>\n",
       "      <td>OS-ONE STOREY</td>\n",
       "      <td>2016</td>\n",
       "      <td>11</td>\n",
       "      <td>$ 280000</td>\n",
       "      <td>$ 288700</td>\n",
       "    </tr>\n",
       "    <tr>\n",
       "      <th>3</th>\n",
       "      <td>716 MELROSE AVE W 0</td>\n",
       "      <td>9005540500</td>\n",
       "      <td>OS-ONE STOREY</td>\n",
       "      <td>2016</td>\n",
       "      <td>12</td>\n",
       "      <td>$ 245000</td>\n",
       "      <td>$ 252100</td>\n",
       "    </tr>\n",
       "    <tr>\n",
       "      <th>4</th>\n",
       "      <td>717 MELROSE AVE W 0</td>\n",
       "      <td>9005521000</td>\n",
       "      <td>OS-ONE STOREY</td>\n",
       "      <td>2016</td>\n",
       "      <td>07</td>\n",
       "      <td>$ 265000</td>\n",
       "      <td>$ 275100</td>\n",
       "    </tr>\n",
       "    <tr>\n",
       "      <th>...</th>\n",
       "      <td>...</td>\n",
       "      <td>...</td>\n",
       "      <td>...</td>\n",
       "      <td>...</td>\n",
       "      <td>...</td>\n",
       "      <td>...</td>\n",
       "      <td>...</td>\n",
       "    </tr>\n",
       "    <tr>\n",
       "      <th>1614</th>\n",
       "      <td>126 VILLAGE COVE 0</td>\n",
       "      <td>6093425000</td>\n",
       "      <td>TS-TWO STOREY</td>\n",
       "      <td>2016</td>\n",
       "      <td>08</td>\n",
       "      <td>$ 285000</td>\n",
       "      <td>$ 295300</td>\n",
       "    </tr>\n",
       "    <tr>\n",
       "      <th>1615</th>\n",
       "      <td>35 WAVECREST COVE 0</td>\n",
       "      <td>6093314400</td>\n",
       "      <td>OS-ONE STOREY</td>\n",
       "      <td>2016</td>\n",
       "      <td>01</td>\n",
       "      <td>$ 422500</td>\n",
       "      <td>$ 443600</td>\n",
       "    </tr>\n",
       "    <tr>\n",
       "      <th>1616</th>\n",
       "      <td>39 WAVECREST COVE 0</td>\n",
       "      <td>6093314500</td>\n",
       "      <td>TS-TWO STOREY</td>\n",
       "      <td>2017</td>\n",
       "      <td>07</td>\n",
       "      <td>$ 389900</td>\n",
       "      <td>$ 395700</td>\n",
       "    </tr>\n",
       "    <tr>\n",
       "      <th>1617</th>\n",
       "      <td>47 WAVECREST COVE 0</td>\n",
       "      <td>6093314700</td>\n",
       "      <td>TS-TWO STOREY</td>\n",
       "      <td>2017</td>\n",
       "      <td>10</td>\n",
       "      <td>$ 400000</td>\n",
       "      <td>$ 403600</td>\n",
       "    </tr>\n",
       "    <tr>\n",
       "      <th>1618</th>\n",
       "      <td>963 MISSION ST 0</td>\n",
       "      <td>6093460100</td>\n",
       "      <td>TL-3 LEVEL SPLIT</td>\n",
       "      <td>2017</td>\n",
       "      <td>10</td>\n",
       "      <td>$ 450000</td>\n",
       "      <td>$ 454100</td>\n",
       "    </tr>\n",
       "  </tbody>\n",
       "</table>\n",
       "<p>1619 rows × 7 columns</p>\n",
       "</div>"
      ],
      "text/plain": [
       "         Property Address Roll Number     Building Type Sale Year Sale Month  \\\n",
       "0     618 MELROSE AVE W 0  9005552500     OS-ONE STOREY      2017         03   \n",
       "1     631 MELROSE AVE W 0  9005510000     OS-ONE STOREY      2016         09   \n",
       "2     709 MELROSE AVE W 0  9005519500     OS-ONE STOREY      2016         11   \n",
       "3     716 MELROSE AVE W 0  9005540500     OS-ONE STOREY      2016         12   \n",
       "4     717 MELROSE AVE W 0  9005521000     OS-ONE STOREY      2016         07   \n",
       "...                   ...         ...               ...       ...        ...   \n",
       "1614   126 VILLAGE COVE 0  6093425000     TS-TWO STOREY      2016         08   \n",
       "1615  35 WAVECREST COVE 0  6093314400     OS-ONE STOREY      2016         01   \n",
       "1616  39 WAVECREST COVE 0  6093314500     TS-TWO STOREY      2017         07   \n",
       "1617  47 WAVECREST COVE 0  6093314700     TS-TWO STOREY      2017         10   \n",
       "1618     963 MISSION ST 0  6093460100  TL-3 LEVEL SPLIT      2017         10   \n",
       "\n",
       "     Sale Price Time Adjust  \n",
       "0      $ 235000    $ 240400  \n",
       "1      $ 238631    $ 246700  \n",
       "2      $ 280000    $ 288700  \n",
       "3      $ 245000    $ 252100  \n",
       "4      $ 265000    $ 275100  \n",
       "...         ...         ...  \n",
       "1614   $ 285000    $ 295300  \n",
       "1615   $ 422500    $ 443600  \n",
       "1616   $ 389900    $ 395700  \n",
       "1617   $ 400000    $ 403600  \n",
       "1618   $ 450000    $ 454100  \n",
       "\n",
       "[1619 rows x 7 columns]"
      ]
     },
     "execution_count": 11,
     "metadata": {},
     "output_type": "execute_result"
    }
   ],
   "source": [
    "pdfinfo"
   ]
  },
  {
   "cell_type": "code",
   "execution_count": 12,
   "metadata": {},
   "outputs": [],
   "source": [
    "# dcfg.full_salebooks_transfer(ignore_exist=True)\n",
    "#"
   ]
  },
  {
   "cell_type": "code",
   "execution_count": 13,
   "metadata": {},
   "outputs": [
    {
     "name": "stdout",
     "output_type": "stream",
     "text": [
      "The csv dataset (interpreted) is complete in local\n"
     ]
    }
   ],
   "source": [
    "if dcfg.data_validator(ext='.csv'):\n",
    "    print('The csv dataset (interpreted) is complete in local')\n",
    "else:\n",
    "    dcfg.full_salebooks_transfer()"
   ]
  },
  {
   "cell_type": "code",
   "execution_count": 14,
   "metadata": {},
   "outputs": [],
   "source": [
    "dcfg.combine_all_csv()"
   ]
  },
  {
   "cell_type": "code",
   "execution_count": 3,
   "metadata": {},
   "outputs": [
    {
     "name": "stderr",
     "output_type": "stream",
     "text": [
      " 2023-10-03 20:11:56,279 - INFO - The file i:\\github\\Winnipeg-real-estate-open-data\\Winnipeg_real_estate_open_data\\access_parcel\\Assessment_Parcels.csv already exists, skip downloading!\n"
     ]
    }
   ],
   "source": [
    "dcfg.get_accessement_parcel()"
   ]
  },
  {
   "cell_type": "code",
   "execution_count": 5,
   "metadata": {},
   "outputs": [],
   "source": [
    "fpath = dcfg.data_save_path / 'access_parcel'\n",
    "df = pd.read_csv(fpath / 'Assessment_Parcels.csv', dtype = str)"
   ]
  },
  {
   "cell_type": "markdown",
   "metadata": {},
   "source": [
    "By now, you have completed all the data needed to perform the analysis for next step."
   ]
  },
  {
   "cell_type": "code",
   "execution_count": 6,
   "metadata": {},
   "outputs": [
    {
     "data": {
      "text/html": [
       "<div>\n",
       "<style scoped>\n",
       "    .dataframe tbody tr th:only-of-type {\n",
       "        vertical-align: middle;\n",
       "    }\n",
       "\n",
       "    .dataframe tbody tr th {\n",
       "        vertical-align: top;\n",
       "    }\n",
       "\n",
       "    .dataframe thead th {\n",
       "        text-align: right;\n",
       "    }\n",
       "</style>\n",
       "<table border=\"1\" class=\"dataframe\">\n",
       "  <thead>\n",
       "    <tr style=\"text-align: right;\">\n",
       "      <th></th>\n",
       "      <th>Roll Number</th>\n",
       "      <th>Street Number</th>\n",
       "      <th>Unit Number</th>\n",
       "      <th>Street Suffix</th>\n",
       "      <th>Street Direction</th>\n",
       "      <th>Street Name</th>\n",
       "      <th>Street Type</th>\n",
       "      <th>Full Address</th>\n",
       "      <th>Neighbourhood Area</th>\n",
       "      <th>Market Region</th>\n",
       "      <th>...</th>\n",
       "      <th>Proposed Status 3</th>\n",
       "      <th>Proposed Assessment Value 3</th>\n",
       "      <th>Proposed Property Class 4</th>\n",
       "      <th>Proposed Status 4</th>\n",
       "      <th>Proposed Assessment Value 4</th>\n",
       "      <th>Proposed Property Class 5</th>\n",
       "      <th>Proposed Status 5</th>\n",
       "      <th>Proposed Assessment Value 5</th>\n",
       "      <th>Multiple Residences</th>\n",
       "      <th>Geometry</th>\n",
       "    </tr>\n",
       "  </thead>\n",
       "  <tbody>\n",
       "    <tr>\n",
       "      <th>0</th>\n",
       "      <td>02061421600</td>\n",
       "      <td>739</td>\n",
       "      <td>NaN</td>\n",
       "      <td>NaN</td>\n",
       "      <td>NaN</td>\n",
       "      <td>KIMBERLY</td>\n",
       "      <td>AVENUE</td>\n",
       "      <td>739 KIMBERLY AVENUE</td>\n",
       "      <td>VALLEY GARDENS</td>\n",
       "      <td>2, EAST KILDONAN / NORTH KILDONAN</td>\n",
       "      <td>...</td>\n",
       "      <td>NaN</td>\n",
       "      <td>NaN</td>\n",
       "      <td>NaN</td>\n",
       "      <td>NaN</td>\n",
       "      <td>NaN</td>\n",
       "      <td>NaN</td>\n",
       "      <td>NaN</td>\n",
       "      <td>NaN</td>\n",
       "      <td>NaN</td>\n",
       "      <td>NaN</td>\n",
       "    </tr>\n",
       "    <tr>\n",
       "      <th>1</th>\n",
       "      <td>04007030800</td>\n",
       "      <td>NaN</td>\n",
       "      <td>NaN</td>\n",
       "      <td>NaN</td>\n",
       "      <td>NaN</td>\n",
       "      <td>NaN</td>\n",
       "      <td>NaN</td>\n",
       "      <td>NaN</td>\n",
       "      <td>GRASSIE</td>\n",
       "      <td>1, TRANSCONA</td>\n",
       "      <td>...</td>\n",
       "      <td>NaN</td>\n",
       "      <td>NaN</td>\n",
       "      <td>NaN</td>\n",
       "      <td>NaN</td>\n",
       "      <td>NaN</td>\n",
       "      <td>NaN</td>\n",
       "      <td>NaN</td>\n",
       "      <td>NaN</td>\n",
       "      <td>NaN</td>\n",
       "      <td>NaN</td>\n",
       "    </tr>\n",
       "    <tr>\n",
       "      <th>2</th>\n",
       "      <td>06051440000</td>\n",
       "      <td>NaN</td>\n",
       "      <td>NaN</td>\n",
       "      <td>NaN</td>\n",
       "      <td>NaN</td>\n",
       "      <td>NaN</td>\n",
       "      <td>NaN</td>\n",
       "      <td>NaN</td>\n",
       "      <td>NaN</td>\n",
       "      <td>0</td>\n",
       "      <td>...</td>\n",
       "      <td>NaN</td>\n",
       "      <td>NaN</td>\n",
       "      <td>NaN</td>\n",
       "      <td>NaN</td>\n",
       "      <td>NaN</td>\n",
       "      <td>NaN</td>\n",
       "      <td>NaN</td>\n",
       "      <td>NaN</td>\n",
       "      <td>NaN</td>\n",
       "      <td>NaN</td>\n",
       "    </tr>\n",
       "    <tr>\n",
       "      <th>3</th>\n",
       "      <td>07000000700</td>\n",
       "      <td>NaN</td>\n",
       "      <td>NaN</td>\n",
       "      <td>NaN</td>\n",
       "      <td>NaN</td>\n",
       "      <td>NaN</td>\n",
       "      <td>NaN</td>\n",
       "      <td>NaN</td>\n",
       "      <td>NaN</td>\n",
       "      <td>0</td>\n",
       "      <td>...</td>\n",
       "      <td>NaN</td>\n",
       "      <td>NaN</td>\n",
       "      <td>NaN</td>\n",
       "      <td>NaN</td>\n",
       "      <td>NaN</td>\n",
       "      <td>NaN</td>\n",
       "      <td>NaN</td>\n",
       "      <td>NaN</td>\n",
       "      <td>NaN</td>\n",
       "      <td>NaN</td>\n",
       "    </tr>\n",
       "    <tr>\n",
       "      <th>4</th>\n",
       "      <td>07000807500</td>\n",
       "      <td>NaN</td>\n",
       "      <td>NaN</td>\n",
       "      <td>NaN</td>\n",
       "      <td>NaN</td>\n",
       "      <td>KENSINGTON</td>\n",
       "      <td>STREET</td>\n",
       "      <td>KENSINGTON STREET</td>\n",
       "      <td>POLO PARK</td>\n",
       "      <td>5, ST. JAMES</td>\n",
       "      <td>...</td>\n",
       "      <td>NaN</td>\n",
       "      <td>NaN</td>\n",
       "      <td>NaN</td>\n",
       "      <td>NaN</td>\n",
       "      <td>NaN</td>\n",
       "      <td>NaN</td>\n",
       "      <td>NaN</td>\n",
       "      <td>NaN</td>\n",
       "      <td>NaN</td>\n",
       "      <td>NaN</td>\n",
       "    </tr>\n",
       "  </tbody>\n",
       "</table>\n",
       "<p>5 rows × 67 columns</p>\n",
       "</div>"
      ],
      "text/plain": [
       "   Roll Number Street Number Unit Number Street Suffix Street Direction  \\\n",
       "0  02061421600           739         NaN           NaN              NaN   \n",
       "1  04007030800           NaN         NaN           NaN              NaN   \n",
       "2  06051440000           NaN         NaN           NaN              NaN   \n",
       "3  07000000700           NaN         NaN           NaN              NaN   \n",
       "4  07000807500           NaN         NaN           NaN              NaN   \n",
       "\n",
       "  Street Name Street Type         Full Address Neighbourhood Area  \\\n",
       "0    KIMBERLY      AVENUE  739 KIMBERLY AVENUE     VALLEY GARDENS   \n",
       "1         NaN         NaN                  NaN            GRASSIE   \n",
       "2         NaN         NaN                  NaN                NaN   \n",
       "3         NaN         NaN                  NaN                NaN   \n",
       "4  KENSINGTON      STREET    KENSINGTON STREET          POLO PARK   \n",
       "\n",
       "                       Market Region  ... Proposed Status 3  \\\n",
       "0  2, EAST KILDONAN / NORTH KILDONAN  ...               NaN   \n",
       "1                       1, TRANSCONA  ...               NaN   \n",
       "2                                  0  ...               NaN   \n",
       "3                                  0  ...               NaN   \n",
       "4                       5, ST. JAMES  ...               NaN   \n",
       "\n",
       "  Proposed Assessment Value 3 Proposed Property Class 4 Proposed Status 4  \\\n",
       "0                         NaN                       NaN               NaN   \n",
       "1                         NaN                       NaN               NaN   \n",
       "2                         NaN                       NaN               NaN   \n",
       "3                         NaN                       NaN               NaN   \n",
       "4                         NaN                       NaN               NaN   \n",
       "\n",
       "  Proposed Assessment Value 4 Proposed Property Class 5 Proposed Status 5  \\\n",
       "0                         NaN                       NaN               NaN   \n",
       "1                         NaN                       NaN               NaN   \n",
       "2                         NaN                       NaN               NaN   \n",
       "3                         NaN                       NaN               NaN   \n",
       "4                         NaN                       NaN               NaN   \n",
       "\n",
       "  Proposed Assessment Value 5 Multiple Residences Geometry  \n",
       "0                         NaN                 NaN      NaN  \n",
       "1                         NaN                 NaN      NaN  \n",
       "2                         NaN                 NaN      NaN  \n",
       "3                         NaN                 NaN      NaN  \n",
       "4                         NaN                 NaN      NaN  \n",
       "\n",
       "[5 rows x 67 columns]"
      ]
     },
     "execution_count": 6,
     "metadata": {},
     "output_type": "execute_result"
    }
   ],
   "source": [
    "df.head() "
   ]
  },
  {
   "cell_type": "code",
   "execution_count": 3,
   "metadata": {},
   "outputs": [
    {
     "name": "stderr",
     "output_type": "stream",
     "text": [
      "I:\\github\\Winnipeg-real-estate-open-data\\src\\wpgdata\\data.py:293: DtypeWarning: Columns (2,3,4,39,40,42,43,45,46) have mixed types. Specify dtype option on import or set low_memory=False.\n",
      "  df = pd.read_csv(fpath / 'Assessment_Parcels.csv')\n"
     ]
    }
   ],
   "source": [
    "dcfg.clean_accessement_parcel(method='simplify')"
   ]
  },
  {
   "cell_type": "code",
   "execution_count": null,
   "metadata": {},
   "outputs": [],
   "source": [
    "dcfg.clean_accessement_parcel(method='clean')"
   ]
  }
 ],
 "metadata": {
  "kernelspec": {
   "display_name": "Python 3",
   "language": "python",
   "name": "python3"
  },
  "language_info": {
   "codemirror_mode": {
    "name": "ipython",
    "version": 3
   },
   "file_extension": ".py",
   "mimetype": "text/x-python",
   "name": "python",
   "nbconvert_exporter": "python",
   "pygments_lexer": "ipython3",
   "version": "3.8.3"
  }
 },
 "nbformat": 4,
 "nbformat_minor": 4
}
