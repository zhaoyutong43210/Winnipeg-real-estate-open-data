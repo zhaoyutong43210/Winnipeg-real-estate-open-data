{
 "cells": [
  {
   "cell_type": "markdown",
   "metadata": {},
   "source": [
    "# Data configuration: Winnipeg Real Estate public data"
   ]
  },
  {
   "cell_type": "code",
   "execution_count": 1,
   "metadata": {},
   "outputs": [],
   "source": [
    "from wpgdata.data import wpgdata_cfg\n",
    "from wpgdata.utils import clean_str\n",
    "import numpy as np\n",
    "import pandas as pd"
   ]
  },
  {
   "cell_type": "code",
   "execution_count": 2,
   "metadata": {},
   "outputs": [
    {
     "data": {
      "text/plain": [
       "WindowsPath('I:/github/Winnipeg-real-estate-open-data/Winnipeg_real_estate_open_data')"
      ]
     },
     "execution_count": 2,
     "metadata": {},
     "output_type": "execute_result"
    }
   ],
   "source": [
    "dcfg = wpgdata_cfg()\n",
    "dcfg.data_save_path"
   ]
  },
  {
   "cell_type": "markdown",
   "metadata": {},
   "source": [
    "### automatically download the full data files from website"
   ]
  },
  {
   "cell_type": "code",
   "execution_count": 3,
   "metadata": {
    "scrolled": true
   },
   "outputs": [
    {
     "name": "stdout",
     "output_type": "stream",
     "text": [
      "year=2012\n",
      "https://assessment.winnipeg.ca/AsmtTax/pdfs/SelfService/2012/sales_book_market_region_1.pdf\n",
      "https://assessment.winnipeg.ca/AsmtTax/pdfs/SelfService/2012/sales_book_market_region_2.pdf\n",
      "https://assessment.winnipeg.ca/AsmtTax/pdfs/SelfService/2012/sales_book_market_region_3.pdf\n",
      "https://assessment.winnipeg.ca/AsmtTax/pdfs/SelfService/2012/sales_book_market_region_4.pdf\n",
      "https://assessment.winnipeg.ca/AsmtTax/pdfs/SelfService/2012/sales_book_market_region_5.pdf\n",
      "https://assessment.winnipeg.ca/AsmtTax/pdfs/SelfService/2012/sales_book_market_region_6.pdf\n",
      "https://assessment.winnipeg.ca/AsmtTax/pdfs/SelfService/2012/sales_book_market_region_7.pdf\n",
      "https://assessment.winnipeg.ca/AsmtTax/pdfs/SelfService/2012/sales_book_market_region_8.pdf\n",
      "https://assessment.winnipeg.ca/AsmtTax/pdfs/SelfService/2012/sales_book_market_region_9.pdf\n",
      "https://assessment.winnipeg.ca/AsmtTax/pdfs/SelfService/2012/sales_book_market_region_10.pdf\n",
      "https://assessment.winnipeg.ca/AsmtTax/pdfs/SelfService/2012/sales_book_condominium.pdf\n",
      "year=2014\n",
      "https://assessment.winnipeg.ca/AsmtTax/pdfs/SelfService/2014/sales_book_market_region_1.pdf\n",
      "https://assessment.winnipeg.ca/AsmtTax/pdfs/SelfService/2014/sales_book_market_region_2.pdf\n",
      "https://assessment.winnipeg.ca/AsmtTax/pdfs/SelfService/2014/sales_book_market_region_3.pdf\n",
      "https://assessment.winnipeg.ca/AsmtTax/pdfs/SelfService/2014/sales_book_market_region_4.pdf\n",
      "https://assessment.winnipeg.ca/AsmtTax/pdfs/SelfService/2014/sales_book_market_region_5.pdf\n",
      "https://assessment.winnipeg.ca/AsmtTax/pdfs/SelfService/2014/sales_book_market_region_6.pdf\n",
      "https://assessment.winnipeg.ca/AsmtTax/pdfs/SelfService/2014/sales_book_market_region_7.pdf\n",
      "https://assessment.winnipeg.ca/AsmtTax/pdfs/SelfService/2014/sales_book_market_region_8.pdf\n",
      "https://assessment.winnipeg.ca/AsmtTax/pdfs/SelfService/2014/sales_book_market_region_9.pdf\n",
      "https://assessment.winnipeg.ca/AsmtTax/pdfs/SelfService/2014/sales_book_market_region_10.pdf\n",
      "https://assessment.winnipeg.ca/AsmtTax/pdfs/SelfService/2014/sales_book_condominium.pdf\n",
      "year=2016\n",
      "https://assessment.winnipeg.ca/AsmtTax/pdfs/SelfService/2016/sales_book_market_region_1.pdf\n",
      "https://assessment.winnipeg.ca/AsmtTax/pdfs/SelfService/2016/sales_book_market_region_2.pdf\n",
      "https://assessment.winnipeg.ca/AsmtTax/pdfs/SelfService/2016/sales_book_market_region_3.pdf\n",
      "https://assessment.winnipeg.ca/AsmtTax/pdfs/SelfService/2016/sales_book_market_region_4.pdf\n",
      "https://assessment.winnipeg.ca/AsmtTax/pdfs/SelfService/2016/sales_book_market_region_5.pdf\n",
      "https://assessment.winnipeg.ca/AsmtTax/pdfs/SelfService/2016/sales_book_market_region_6.pdf\n",
      "https://assessment.winnipeg.ca/AsmtTax/pdfs/SelfService/2016/sales_book_market_region_7.pdf\n",
      "https://assessment.winnipeg.ca/AsmtTax/pdfs/SelfService/2016/sales_book_market_region_8.pdf\n",
      "https://assessment.winnipeg.ca/AsmtTax/pdfs/SelfService/2016/sales_book_market_region_9.pdf\n",
      "https://assessment.winnipeg.ca/AsmtTax/pdfs/SelfService/2016/sales_book_market_region_10.pdf\n",
      "https://assessment.winnipeg.ca/AsmtTax/pdfs/SelfService/2016/sales_book_condominium.pdf\n",
      "year=2018\n",
      "https://assessment.winnipeg.ca/AsmtTax/pdfs/SelfService/sales_book_market_region_1.pdf\n",
      "https://assessment.winnipeg.ca/AsmtTax/pdfs/SelfService/sales_book_market_region_2.pdf\n",
      "https://assessment.winnipeg.ca/AsmtTax/pdfs/SelfService/sales_book_market_region_3.pdf\n",
      "https://assessment.winnipeg.ca/AsmtTax/pdfs/SelfService/sales_book_market_region_4.pdf\n",
      "https://assessment.winnipeg.ca/AsmtTax/pdfs/SelfService/sales_book_market_region_5.pdf\n",
      "https://assessment.winnipeg.ca/AsmtTax/pdfs/SelfService/sales_book_market_region_6.pdf\n",
      "https://assessment.winnipeg.ca/AsmtTax/pdfs/SelfService/sales_book_market_region_7.pdf\n",
      "https://assessment.winnipeg.ca/AsmtTax/pdfs/SelfService/sales_book_market_region_8.pdf\n",
      "https://assessment.winnipeg.ca/AsmtTax/pdfs/SelfService/sales_book_market_region_9.pdf\n",
      "https://assessment.winnipeg.ca/AsmtTax/pdfs/SelfService/sales_book_market_region_10.pdf\n",
      "https://assessment.winnipeg.ca/AsmtTax/pdfs/SelfService/sales_book_condominium.pdf\n",
      "year=2021\n",
      "https://assessment.winnipeg.ca/AsmtTax/pdfs/SelfService/2021/sales_book_market_region_1.pdf\n",
      "https://assessment.winnipeg.ca/AsmtTax/pdfs/SelfService/2021/sales_book_market_region_2.pdf\n",
      "https://assessment.winnipeg.ca/AsmtTax/pdfs/SelfService/2021/sales_book_market_region_3.pdf\n",
      "https://assessment.winnipeg.ca/AsmtTax/pdfs/SelfService/2021/sales_book_market_region_4.pdf\n",
      "https://assessment.winnipeg.ca/AsmtTax/pdfs/SelfService/2021/sales_book_market_region_5.pdf\n",
      "https://assessment.winnipeg.ca/AsmtTax/pdfs/SelfService/2021/sales_book_market_region_6.pdf\n",
      "https://assessment.winnipeg.ca/AsmtTax/pdfs/SelfService/2021/sales_book_market_region_7.pdf\n",
      "https://assessment.winnipeg.ca/AsmtTax/pdfs/SelfService/2021/sales_book_market_region_8.pdf\n",
      "https://assessment.winnipeg.ca/AsmtTax/pdfs/SelfService/2021/sales_book_market_region_9.pdf\n",
      "https://assessment.winnipeg.ca/AsmtTax/pdfs/SelfService/2021/sales_book_market_region_10.pdf\n",
      "https://assessment.winnipeg.ca/AsmtTax/pdfs/SelfService/2021/sales_book_condominium.pdf\n"
     ]
    }
   ],
   "source": [
    "full_urls = dcfg.full_salebooks_urls()\n",
    "for year in full_urls:\n",
    "    print(f'year={year}')\n",
    "    for salebook_url in full_urls[year]: \n",
    "        print(salebook_url)\n",
    "        "
   ]
  },
  {
   "cell_type": "code",
   "execution_count": 4,
   "metadata": {},
   "outputs": [
    {
     "name": "stdout",
     "output_type": "stream",
     "text": [
      "2012\n",
      "2012\\sales_book_market_region_1.pdf\n",
      "2012\\sales_book_market_region_2.pdf\n",
      "2012\\sales_book_market_region_3.pdf\n",
      "2012\\sales_book_market_region_4.pdf\n",
      "2012\\sales_book_market_region_5.pdf\n",
      "2012\\sales_book_market_region_6.pdf\n",
      "2012\\sales_book_market_region_7.pdf\n",
      "2012\\sales_book_market_region_8.pdf\n",
      "2012\\sales_book_market_region_9.pdf\n",
      "2012\\sales_book_market_region_10.pdf\n",
      "2012\\sales_book_condominium.pdf\n",
      "2014\n",
      "2014\\sales_book_market_region_1.pdf\n",
      "2014\\sales_book_market_region_2.pdf\n",
      "2014\\sales_book_market_region_3.pdf\n",
      "2014\\sales_book_market_region_4.pdf\n",
      "2014\\sales_book_market_region_5.pdf\n",
      "2014\\sales_book_market_region_6.pdf\n",
      "2014\\sales_book_market_region_7.pdf\n",
      "2014\\sales_book_market_region_8.pdf\n",
      "2014\\sales_book_market_region_9.pdf\n",
      "2014\\sales_book_market_region_10.pdf\n",
      "2014\\sales_book_condominium.pdf\n",
      "2016\n",
      "2016\\sales_book_market_region_1.pdf\n",
      "2016\\sales_book_market_region_2.pdf\n",
      "2016\\sales_book_market_region_3.pdf\n",
      "2016\\sales_book_market_region_4.pdf\n",
      "2016\\sales_book_market_region_5.pdf\n",
      "2016\\sales_book_market_region_6.pdf\n",
      "2016\\sales_book_market_region_7.pdf\n",
      "2016\\sales_book_market_region_8.pdf\n",
      "2016\\sales_book_market_region_9.pdf\n",
      "2016\\sales_book_market_region_10.pdf\n",
      "2016\\sales_book_condominium.pdf\n",
      "2018\n",
      "2018\\sales_book_market_region_1.pdf\n",
      "2018\\sales_book_market_region_2.pdf\n",
      "2018\\sales_book_market_region_3.pdf\n",
      "2018\\sales_book_market_region_4.pdf\n",
      "2018\\sales_book_market_region_5.pdf\n",
      "2018\\sales_book_market_region_6.pdf\n",
      "2018\\sales_book_market_region_7.pdf\n",
      "2018\\sales_book_market_region_8.pdf\n",
      "2018\\sales_book_market_region_9.pdf\n",
      "2018\\sales_book_market_region_10.pdf\n",
      "2018\\sales_book_condominium.pdf\n",
      "2021\n",
      "2021\\sales_book_market_region_1.pdf\n",
      "2021\\sales_book_market_region_2.pdf\n",
      "2021\\sales_book_market_region_3.pdf\n",
      "2021\\sales_book_market_region_4.pdf\n",
      "2021\\sales_book_market_region_5.pdf\n",
      "2021\\sales_book_market_region_6.pdf\n",
      "2021\\sales_book_market_region_7.pdf\n",
      "2021\\sales_book_market_region_8.pdf\n",
      "2021\\sales_book_market_region_9.pdf\n",
      "2021\\sales_book_market_region_10.pdf\n",
      "2021\\sales_book_condominium.pdf\n"
     ]
    }
   ],
   "source": [
    "full_path =  dcfg.full_salebooks_paths()\n",
    "for year in full_path:\n",
    "    print(year)\n",
    "    for salebook_path in full_path[year]: \n",
    "        print(salebook_path)"
   ]
  },
  {
   "cell_type": "code",
   "execution_count": 5,
   "metadata": {},
   "outputs": [
    {
     "name": "stdout",
     "output_type": "stream",
     "text": [
      "The dataset is complete in local\n"
     ]
    }
   ],
   "source": [
    "if dcfg.data_validator(): \n",
    "    print('The dataset is complete in local')\n",
    "else:\n",
    "    dcfg.auto_download()"
   ]
  },
  {
   "cell_type": "code",
   "execution_count": 6,
   "metadata": {},
   "outputs": [],
   "source": [
    "path = dcfg.data_save_path / dcfg.data_filename(year=2018, type='house', region=1)\n",
    "dcfg.get_headers(fpath=path)"
   ]
  },
  {
   "cell_type": "markdown",
   "metadata": {},
   "source": [
    "Check the headerinfo, with start index, end index and the header string. Always compare with the PDF file if more data (after 2021) is released."
   ]
  },
  {
   "cell_type": "code",
   "execution_count": 7,
   "metadata": {
    "scrolled": true
   },
   "outputs": [
    {
     "data": {
      "text/plain": [
       "[[24, 43, 'Property    Address'],\n",
       " [90, 101, 'Roll Number'],\n",
       " [110, 126, 'Building    Type'],\n",
       " [153, 163, 'Sale  Year'],\n",
       " [172, 183, 'Sale  Month'],\n",
       " [193, 204, 'Sale  Price'],\n",
       " [223, 236, 'Time   Adjust']]"
      ]
     },
     "execution_count": 7,
     "metadata": {},
     "output_type": "execute_result"
    }
   ],
   "source": [
    "dcfg._headerinfo"
   ]
  },
  {
   "cell_type": "code",
   "execution_count": 8,
   "metadata": {},
   "outputs": [
    {
     "data": {
      "text/plain": [
       "['Property Address',\n",
       " 'Roll Number',\n",
       " 'Building Type',\n",
       " 'Sale Year',\n",
       " 'Sale Month',\n",
       " 'Sale Price',\n",
       " 'Time Adjust']"
      ]
     },
     "execution_count": 8,
     "metadata": {},
     "output_type": "execute_result"
    }
   ],
   "source": [
    "dcfg._headers"
   ]
  },
  {
   "cell_type": "code",
   "execution_count": 9,
   "metadata": {},
   "outputs": [],
   "source": [
    "pdfinfo = dcfg.pdf_to_datafram(fpath=path, trigger_str=[['Address', 'Roll'], ['Page', 'of']])\n",
    "# pdfinfo = dcfg.pdf_to_datafram(fpath=path)"
   ]
  },
  {
   "cell_type": "code",
   "execution_count": 10,
   "metadata": {
    "scrolled": true
   },
   "outputs": [
    {
     "data": {
      "text/html": [
       "<div>\n",
       "<style scoped>\n",
       "    .dataframe tbody tr th:only-of-type {\n",
       "        vertical-align: middle;\n",
       "    }\n",
       "\n",
       "    .dataframe tbody tr th {\n",
       "        vertical-align: top;\n",
       "    }\n",
       "\n",
       "    .dataframe thead th {\n",
       "        text-align: right;\n",
       "    }\n",
       "</style>\n",
       "<table border=\"1\" class=\"dataframe\">\n",
       "  <thead>\n",
       "    <tr style=\"text-align: right;\">\n",
       "      <th></th>\n",
       "      <th>Property Address</th>\n",
       "      <th>Roll Number</th>\n",
       "      <th>Building Type</th>\n",
       "      <th>Sale Year</th>\n",
       "      <th>Sale Month</th>\n",
       "      <th>Sale Price</th>\n",
       "      <th>Time Adjust</th>\n",
       "    </tr>\n",
       "  </thead>\n",
       "  <tbody>\n",
       "    <tr>\n",
       "      <th>0</th>\n",
       "      <td>618 MELROSE AVE W 0</td>\n",
       "      <td>9005552500</td>\n",
       "      <td>OS-ONE STOREY</td>\n",
       "      <td>2017</td>\n",
       "      <td>03</td>\n",
       "      <td>$ 235000</td>\n",
       "      <td>$ 240400</td>\n",
       "    </tr>\n",
       "    <tr>\n",
       "      <th>1</th>\n",
       "      <td>631 MELROSE AVE W 0</td>\n",
       "      <td>9005510000</td>\n",
       "      <td>OS-ONE STOREY</td>\n",
       "      <td>2016</td>\n",
       "      <td>09</td>\n",
       "      <td>$ 238631</td>\n",
       "      <td>$ 246700</td>\n",
       "    </tr>\n",
       "    <tr>\n",
       "      <th>2</th>\n",
       "      <td>709 MELROSE AVE W 0</td>\n",
       "      <td>9005519500</td>\n",
       "      <td>OS-ONE STOREY</td>\n",
       "      <td>2016</td>\n",
       "      <td>11</td>\n",
       "      <td>$ 280000</td>\n",
       "      <td>$ 288700</td>\n",
       "    </tr>\n",
       "    <tr>\n",
       "      <th>3</th>\n",
       "      <td>716 MELROSE AVE W 0</td>\n",
       "      <td>9005540500</td>\n",
       "      <td>OS-ONE STOREY</td>\n",
       "      <td>2016</td>\n",
       "      <td>12</td>\n",
       "      <td>$ 245000</td>\n",
       "      <td>$ 252100</td>\n",
       "    </tr>\n",
       "    <tr>\n",
       "      <th>4</th>\n",
       "      <td>717 MELROSE AVE W 0</td>\n",
       "      <td>9005521000</td>\n",
       "      <td>OS-ONE STOREY</td>\n",
       "      <td>2016</td>\n",
       "      <td>07</td>\n",
       "      <td>$ 265000</td>\n",
       "      <td>$ 275100</td>\n",
       "    </tr>\n",
       "    <tr>\n",
       "      <th>...</th>\n",
       "      <td>...</td>\n",
       "      <td>...</td>\n",
       "      <td>...</td>\n",
       "      <td>...</td>\n",
       "      <td>...</td>\n",
       "      <td>...</td>\n",
       "      <td>...</td>\n",
       "    </tr>\n",
       "    <tr>\n",
       "      <th>1614</th>\n",
       "      <td>126 VILLAGE COVE 0</td>\n",
       "      <td>6093425000</td>\n",
       "      <td>TS-TWO STOREY</td>\n",
       "      <td>2016</td>\n",
       "      <td>08</td>\n",
       "      <td>$ 285000</td>\n",
       "      <td>$ 295300</td>\n",
       "    </tr>\n",
       "    <tr>\n",
       "      <th>1615</th>\n",
       "      <td>35 WAVECREST COVE 0</td>\n",
       "      <td>6093314400</td>\n",
       "      <td>OS-ONE STOREY</td>\n",
       "      <td>2016</td>\n",
       "      <td>01</td>\n",
       "      <td>$ 422500</td>\n",
       "      <td>$ 443600</td>\n",
       "    </tr>\n",
       "    <tr>\n",
       "      <th>1616</th>\n",
       "      <td>39 WAVECREST COVE 0</td>\n",
       "      <td>6093314500</td>\n",
       "      <td>TS-TWO STOREY</td>\n",
       "      <td>2017</td>\n",
       "      <td>07</td>\n",
       "      <td>$ 389900</td>\n",
       "      <td>$ 395700</td>\n",
       "    </tr>\n",
       "    <tr>\n",
       "      <th>1617</th>\n",
       "      <td>47 WAVECREST COVE 0</td>\n",
       "      <td>6093314700</td>\n",
       "      <td>TS-TWO STOREY</td>\n",
       "      <td>2017</td>\n",
       "      <td>10</td>\n",
       "      <td>$ 400000</td>\n",
       "      <td>$ 403600</td>\n",
       "    </tr>\n",
       "    <tr>\n",
       "      <th>1618</th>\n",
       "      <td>963 MISSION ST 0</td>\n",
       "      <td>6093460100</td>\n",
       "      <td>TL-3 LEVEL SPLIT</td>\n",
       "      <td>2017</td>\n",
       "      <td>10</td>\n",
       "      <td>$ 450000</td>\n",
       "      <td>$ 454100</td>\n",
       "    </tr>\n",
       "  </tbody>\n",
       "</table>\n",
       "<p>1619 rows × 7 columns</p>\n",
       "</div>"
      ],
      "text/plain": [
       "         Property Address Roll Number     Building Type Sale Year Sale Month  \\\n",
       "0     618 MELROSE AVE W 0  9005552500     OS-ONE STOREY      2017         03   \n",
       "1     631 MELROSE AVE W 0  9005510000     OS-ONE STOREY      2016         09   \n",
       "2     709 MELROSE AVE W 0  9005519500     OS-ONE STOREY      2016         11   \n",
       "3     716 MELROSE AVE W 0  9005540500     OS-ONE STOREY      2016         12   \n",
       "4     717 MELROSE AVE W 0  9005521000     OS-ONE STOREY      2016         07   \n",
       "...                   ...         ...               ...       ...        ...   \n",
       "1614   126 VILLAGE COVE 0  6093425000     TS-TWO STOREY      2016         08   \n",
       "1615  35 WAVECREST COVE 0  6093314400     OS-ONE STOREY      2016         01   \n",
       "1616  39 WAVECREST COVE 0  6093314500     TS-TWO STOREY      2017         07   \n",
       "1617  47 WAVECREST COVE 0  6093314700     TS-TWO STOREY      2017         10   \n",
       "1618     963 MISSION ST 0  6093460100  TL-3 LEVEL SPLIT      2017         10   \n",
       "\n",
       "     Sale Price Time Adjust  \n",
       "0      $ 235000    $ 240400  \n",
       "1      $ 238631    $ 246700  \n",
       "2      $ 280000    $ 288700  \n",
       "3      $ 245000    $ 252100  \n",
       "4      $ 265000    $ 275100  \n",
       "...         ...         ...  \n",
       "1614   $ 285000    $ 295300  \n",
       "1615   $ 422500    $ 443600  \n",
       "1616   $ 389900    $ 395700  \n",
       "1617   $ 400000    $ 403600  \n",
       "1618   $ 450000    $ 454100  \n",
       "\n",
       "[1619 rows x 7 columns]"
      ]
     },
     "execution_count": 10,
     "metadata": {},
     "output_type": "execute_result"
    }
   ],
   "source": [
    "pdfinfo"
   ]
  },
  {
   "cell_type": "code",
   "execution_count": 11,
   "metadata": {},
   "outputs": [
    {
     "name": "stderr",
     "output_type": "stream",
     "text": [
      " 2023-08-31 00:38:26,237 - INFO - file I:\\github\\Winnipeg-real-estate-open-data\\Winnipeg_real_estate_open_data\\2012\\sales_book_market_region_1.pdf successfully transfered!\n",
      " 2023-08-31 00:38:35,090 - INFO - file I:\\github\\Winnipeg-real-estate-open-data\\Winnipeg_real_estate_open_data\\2012\\sales_book_market_region_2.pdf successfully transfered!\n",
      " 2023-08-31 00:38:45,692 - INFO - file I:\\github\\Winnipeg-real-estate-open-data\\Winnipeg_real_estate_open_data\\2012\\sales_book_market_region_3.pdf successfully transfered!\n",
      " 2023-08-31 00:38:59,606 - INFO - file I:\\github\\Winnipeg-real-estate-open-data\\Winnipeg_real_estate_open_data\\2012\\sales_book_market_region_4.pdf successfully transfered!\n",
      " 2023-08-31 00:39:06,767 - INFO - file I:\\github\\Winnipeg-real-estate-open-data\\Winnipeg_real_estate_open_data\\2012\\sales_book_market_region_5.pdf successfully transfered!\n",
      " 2023-08-31 00:39:09,889 - INFO - file I:\\github\\Winnipeg-real-estate-open-data\\Winnipeg_real_estate_open_data\\2012\\sales_book_market_region_6.pdf successfully transfered!\n",
      " 2023-08-31 00:39:17,951 - INFO - file I:\\github\\Winnipeg-real-estate-open-data\\Winnipeg_real_estate_open_data\\2012\\sales_book_market_region_7.pdf successfully transfered!\n",
      " 2023-08-31 00:39:26,935 - INFO - file I:\\github\\Winnipeg-real-estate-open-data\\Winnipeg_real_estate_open_data\\2012\\sales_book_market_region_8.pdf successfully transfered!\n",
      " 2023-08-31 00:39:31,844 - INFO - file I:\\github\\Winnipeg-real-estate-open-data\\Winnipeg_real_estate_open_data\\2012\\sales_book_market_region_9.pdf successfully transfered!\n",
      " 2023-08-31 00:39:41,374 - INFO - file I:\\github\\Winnipeg-real-estate-open-data\\Winnipeg_real_estate_open_data\\2012\\sales_book_market_region_10.pdf successfully transfered!\n",
      " 2023-08-31 00:39:55,639 - INFO - file I:\\github\\Winnipeg-real-estate-open-data\\Winnipeg_real_estate_open_data\\2012\\sales_book_condominium.pdf successfully transfered!\n",
      " 2023-08-31 00:40:02,473 - INFO - file I:\\github\\Winnipeg-real-estate-open-data\\Winnipeg_real_estate_open_data\\2014\\sales_book_market_region_1.pdf successfully transfered!\n",
      " 2023-08-31 00:40:12,372 - INFO - file I:\\github\\Winnipeg-real-estate-open-data\\Winnipeg_real_estate_open_data\\2014\\sales_book_market_region_2.pdf successfully transfered!\n",
      " 2023-08-31 00:40:22,501 - INFO - file I:\\github\\Winnipeg-real-estate-open-data\\Winnipeg_real_estate_open_data\\2014\\sales_book_market_region_3.pdf successfully transfered!\n",
      " 2023-08-31 00:40:35,408 - INFO - file I:\\github\\Winnipeg-real-estate-open-data\\Winnipeg_real_estate_open_data\\2014\\sales_book_market_region_4.pdf successfully transfered!\n",
      " 2023-08-31 00:40:42,496 - INFO - file I:\\github\\Winnipeg-real-estate-open-data\\Winnipeg_real_estate_open_data\\2014\\sales_book_market_region_5.pdf successfully transfered!\n",
      " 2023-08-31 00:40:45,539 - INFO - file I:\\github\\Winnipeg-real-estate-open-data\\Winnipeg_real_estate_open_data\\2014\\sales_book_market_region_6.pdf successfully transfered!\n",
      " 2023-08-31 00:40:53,365 - INFO - file I:\\github\\Winnipeg-real-estate-open-data\\Winnipeg_real_estate_open_data\\2014\\sales_book_market_region_7.pdf successfully transfered!\n",
      " 2023-08-31 00:41:02,517 - INFO - file I:\\github\\Winnipeg-real-estate-open-data\\Winnipeg_real_estate_open_data\\2014\\sales_book_market_region_8.pdf successfully transfered!\n",
      " 2023-08-31 00:41:07,353 - INFO - file I:\\github\\Winnipeg-real-estate-open-data\\Winnipeg_real_estate_open_data\\2014\\sales_book_market_region_9.pdf successfully transfered!\n",
      " 2023-08-31 00:41:17,022 - INFO - file I:\\github\\Winnipeg-real-estate-open-data\\Winnipeg_real_estate_open_data\\2014\\sales_book_market_region_10.pdf successfully transfered!\n",
      " 2023-08-31 00:41:34,464 - INFO - file I:\\github\\Winnipeg-real-estate-open-data\\Winnipeg_real_estate_open_data\\2014\\sales_book_condominium.pdf successfully transfered!\n",
      " 2023-08-31 00:41:40,734 - INFO - file I:\\github\\Winnipeg-real-estate-open-data\\Winnipeg_real_estate_open_data\\2016\\sales_book_market_region_1.pdf successfully transfered!\n",
      " 2023-08-31 00:41:49,448 - INFO - file I:\\github\\Winnipeg-real-estate-open-data\\Winnipeg_real_estate_open_data\\2016\\sales_book_market_region_2.pdf successfully transfered!\n",
      " 2023-08-31 00:41:58,764 - INFO - file I:\\github\\Winnipeg-real-estate-open-data\\Winnipeg_real_estate_open_data\\2016\\sales_book_market_region_3.pdf successfully transfered!\n",
      " 2023-08-31 00:42:07,946 - INFO - file I:\\github\\Winnipeg-real-estate-open-data\\Winnipeg_real_estate_open_data\\2016\\sales_book_market_region_4.pdf successfully transfered!\n",
      " 2023-08-31 00:42:13,788 - INFO - file I:\\github\\Winnipeg-real-estate-open-data\\Winnipeg_real_estate_open_data\\2016\\sales_book_market_region_5.pdf successfully transfered!\n",
      " 2023-08-31 00:42:16,232 - INFO - file I:\\github\\Winnipeg-real-estate-open-data\\Winnipeg_real_estate_open_data\\2016\\sales_book_market_region_6.pdf successfully transfered!\n",
      " 2023-08-31 00:42:23,790 - INFO - file I:\\github\\Winnipeg-real-estate-open-data\\Winnipeg_real_estate_open_data\\2016\\sales_book_market_region_7.pdf successfully transfered!\n",
      " 2023-08-31 00:42:32,997 - INFO - file I:\\github\\Winnipeg-real-estate-open-data\\Winnipeg_real_estate_open_data\\2016\\sales_book_market_region_8.pdf successfully transfered!\n",
      " 2023-08-31 00:42:36,886 - INFO - file I:\\github\\Winnipeg-real-estate-open-data\\Winnipeg_real_estate_open_data\\2016\\sales_book_market_region_9.pdf successfully transfered!\n",
      " 2023-08-31 00:42:46,319 - INFO - file I:\\github\\Winnipeg-real-estate-open-data\\Winnipeg_real_estate_open_data\\2016\\sales_book_market_region_10.pdf successfully transfered!\n",
      " 2023-08-31 00:43:02,589 - INFO - file I:\\github\\Winnipeg-real-estate-open-data\\Winnipeg_real_estate_open_data\\2016\\sales_book_condominium.pdf successfully transfered!\n",
      " 2023-08-31 00:43:10,904 - INFO - file I:\\github\\Winnipeg-real-estate-open-data\\Winnipeg_real_estate_open_data\\2018\\sales_book_market_region_1.pdf successfully transfered!\n",
      " 2023-08-31 00:43:22,140 - INFO - file I:\\github\\Winnipeg-real-estate-open-data\\Winnipeg_real_estate_open_data\\2018\\sales_book_market_region_2.pdf successfully transfered!\n",
      " 2023-08-31 00:43:35,249 - INFO - file I:\\github\\Winnipeg-real-estate-open-data\\Winnipeg_real_estate_open_data\\2018\\sales_book_market_region_3.pdf successfully transfered!\n",
      " 2023-08-31 00:43:47,584 - INFO - file I:\\github\\Winnipeg-real-estate-open-data\\Winnipeg_real_estate_open_data\\2018\\sales_book_market_region_4.pdf successfully transfered!\n",
      " 2023-08-31 00:43:55,949 - INFO - file I:\\github\\Winnipeg-real-estate-open-data\\Winnipeg_real_estate_open_data\\2018\\sales_book_market_region_5.pdf successfully transfered!\n",
      " 2023-08-31 00:43:59,771 - INFO - file I:\\github\\Winnipeg-real-estate-open-data\\Winnipeg_real_estate_open_data\\2018\\sales_book_market_region_6.pdf successfully transfered!\n",
      " 2023-08-31 00:44:08,948 - INFO - file I:\\github\\Winnipeg-real-estate-open-data\\Winnipeg_real_estate_open_data\\2018\\sales_book_market_region_7.pdf successfully transfered!\n",
      " 2023-08-31 00:44:21,702 - INFO - file I:\\github\\Winnipeg-real-estate-open-data\\Winnipeg_real_estate_open_data\\2018\\sales_book_market_region_8.pdf successfully transfered!\n",
      " 2023-08-31 00:44:26,929 - INFO - file I:\\github\\Winnipeg-real-estate-open-data\\Winnipeg_real_estate_open_data\\2018\\sales_book_market_region_9.pdf successfully transfered!\n",
      " 2023-08-31 00:44:39,853 - INFO - file I:\\github\\Winnipeg-real-estate-open-data\\Winnipeg_real_estate_open_data\\2018\\sales_book_market_region_10.pdf successfully transfered!\n",
      " 2023-08-31 00:44:56,166 - INFO - file I:\\github\\Winnipeg-real-estate-open-data\\Winnipeg_real_estate_open_data\\2018\\sales_book_condominium.pdf successfully transfered!\n",
      " 2023-08-31 00:45:05,327 - INFO - file I:\\github\\Winnipeg-real-estate-open-data\\Winnipeg_real_estate_open_data\\2021\\sales_book_market_region_1.pdf successfully transfered!\n",
      " 2023-08-31 00:45:16,973 - INFO - file I:\\github\\Winnipeg-real-estate-open-data\\Winnipeg_real_estate_open_data\\2021\\sales_book_market_region_2.pdf successfully transfered!\n",
      " 2023-08-31 00:45:30,773 - INFO - file I:\\github\\Winnipeg-real-estate-open-data\\Winnipeg_real_estate_open_data\\2021\\sales_book_market_region_3.pdf successfully transfered!\n",
      " 2023-08-31 00:45:43,089 - INFO - file I:\\github\\Winnipeg-real-estate-open-data\\Winnipeg_real_estate_open_data\\2021\\sales_book_market_region_4.pdf successfully transfered!\n"
     ]
    },
    {
     "name": "stderr",
     "output_type": "stream",
     "text": [
      " 2023-08-31 00:45:51,775 - INFO - file I:\\github\\Winnipeg-real-estate-open-data\\Winnipeg_real_estate_open_data\\2021\\sales_book_market_region_5.pdf successfully transfered!\n",
      " 2023-08-31 00:45:56,079 - INFO - file I:\\github\\Winnipeg-real-estate-open-data\\Winnipeg_real_estate_open_data\\2021\\sales_book_market_region_6.pdf successfully transfered!\n",
      " 2023-08-31 00:46:04,594 - INFO - file I:\\github\\Winnipeg-real-estate-open-data\\Winnipeg_real_estate_open_data\\2021\\sales_book_market_region_7.pdf successfully transfered!\n",
      " 2023-08-31 00:46:18,326 - INFO - file I:\\github\\Winnipeg-real-estate-open-data\\Winnipeg_real_estate_open_data\\2021\\sales_book_market_region_8.pdf successfully transfered!\n",
      " 2023-08-31 00:46:23,692 - INFO - file I:\\github\\Winnipeg-real-estate-open-data\\Winnipeg_real_estate_open_data\\2021\\sales_book_market_region_9.pdf successfully transfered!\n",
      " 2023-08-31 00:46:36,598 - INFO - file I:\\github\\Winnipeg-real-estate-open-data\\Winnipeg_real_estate_open_data\\2021\\sales_book_market_region_10.pdf successfully transfered!\n",
      " 2023-08-31 00:46:52,116 - INFO - file I:\\github\\Winnipeg-real-estate-open-data\\Winnipeg_real_estate_open_data\\2021\\sales_book_condominium.pdf successfully transfered!\n"
     ]
    }
   ],
   "source": [
    "dcfg.full_salebooks_transfer(ignore_exist=True)\n",
    "#dcfg.full_salebooks_transfer()"
   ]
  },
  {
   "cell_type": "code",
   "execution_count": null,
   "metadata": {},
   "outputs": [],
   "source": []
  }
 ],
 "metadata": {
  "kernelspec": {
   "display_name": "Python 3",
   "language": "python",
   "name": "python3"
  },
  "language_info": {
   "codemirror_mode": {
    "name": "ipython",
    "version": 3
   },
   "file_extension": ".py",
   "mimetype": "text/x-python",
   "name": "python",
   "nbconvert_exporter": "python",
   "pygments_lexer": "ipython3",
   "version": "3.8.3"
  }
 },
 "nbformat": 4,
 "nbformat_minor": 4
}
