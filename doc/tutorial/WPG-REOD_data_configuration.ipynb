{
 "cells": [
  {
   "cell_type": "markdown",
   "metadata": {},
   "source": [
    "# Data configuration: Winnipeg Real Estate public data"
   ]
  },
  {
   "cell_type": "code",
   "execution_count": 1,
   "metadata": {},
   "outputs": [],
   "source": [
    "from wpgdata.data import wpgdata_cfg\n",
    "import numpy as np\n",
    "import pandas as pd"
   ]
  },
  {
   "cell_type": "code",
   "execution_count": 2,
   "metadata": {},
   "outputs": [
    {
     "data": {
      "text/plain": [
       "WindowsPath('I:/github/Winnipeg-real-estate-open-data/Winnipeg_real_estate_open_data')"
      ]
     },
     "execution_count": 2,
     "metadata": {},
     "output_type": "execute_result"
    }
   ],
   "source": [
    "dcfg = wpgdata_cfg()\n",
    "dcfg.data_save_path"
   ]
  },
  {
   "cell_type": "markdown",
   "metadata": {},
   "source": [
    "### automatically download the full data files from website"
   ]
  },
  {
   "cell_type": "code",
   "execution_count": 3,
   "metadata": {
    "scrolled": true
   },
   "outputs": [
    {
     "name": "stdout",
     "output_type": "stream",
     "text": [
      "year=2012\n",
      "https://assessment.winnipeg.ca/AsmtTax/pdfs/SelfService/2012/sales_book_market_region_1.pdf\n",
      "https://assessment.winnipeg.ca/AsmtTax/pdfs/SelfService/2012/sales_book_market_region_2.pdf\n",
      "https://assessment.winnipeg.ca/AsmtTax/pdfs/SelfService/2012/sales_book_market_region_3.pdf\n",
      "https://assessment.winnipeg.ca/AsmtTax/pdfs/SelfService/2012/sales_book_market_region_4.pdf\n",
      "https://assessment.winnipeg.ca/AsmtTax/pdfs/SelfService/2012/sales_book_market_region_5.pdf\n",
      "https://assessment.winnipeg.ca/AsmtTax/pdfs/SelfService/2012/sales_book_market_region_6.pdf\n",
      "https://assessment.winnipeg.ca/AsmtTax/pdfs/SelfService/2012/sales_book_market_region_7.pdf\n",
      "https://assessment.winnipeg.ca/AsmtTax/pdfs/SelfService/2012/sales_book_market_region_8.pdf\n",
      "https://assessment.winnipeg.ca/AsmtTax/pdfs/SelfService/2012/sales_book_market_region_9.pdf\n",
      "https://assessment.winnipeg.ca/AsmtTax/pdfs/SelfService/2012/sales_book_market_region_10.pdf\n",
      "https://assessment.winnipeg.ca/AsmtTax/pdfs/SelfService/2012/sales_book_condominium.pdf\n",
      "year=2014\n",
      "https://assessment.winnipeg.ca/AsmtTax/pdfs/SelfService/2014/sales_book_market_region_1.pdf\n",
      "https://assessment.winnipeg.ca/AsmtTax/pdfs/SelfService/2014/sales_book_market_region_2.pdf\n",
      "https://assessment.winnipeg.ca/AsmtTax/pdfs/SelfService/2014/sales_book_market_region_3.pdf\n",
      "https://assessment.winnipeg.ca/AsmtTax/pdfs/SelfService/2014/sales_book_market_region_4.pdf\n",
      "https://assessment.winnipeg.ca/AsmtTax/pdfs/SelfService/2014/sales_book_market_region_5.pdf\n",
      "https://assessment.winnipeg.ca/AsmtTax/pdfs/SelfService/2014/sales_book_market_region_6.pdf\n",
      "https://assessment.winnipeg.ca/AsmtTax/pdfs/SelfService/2014/sales_book_market_region_7.pdf\n",
      "https://assessment.winnipeg.ca/AsmtTax/pdfs/SelfService/2014/sales_book_market_region_8.pdf\n",
      "https://assessment.winnipeg.ca/AsmtTax/pdfs/SelfService/2014/sales_book_market_region_9.pdf\n",
      "https://assessment.winnipeg.ca/AsmtTax/pdfs/SelfService/2014/sales_book_market_region_10.pdf\n",
      "https://assessment.winnipeg.ca/AsmtTax/pdfs/SelfService/2014/sales_book_condominium.pdf\n",
      "year=2016\n",
      "https://assessment.winnipeg.ca/AsmtTax/pdfs/SelfService/2016/sales_book_market_region_1.pdf\n",
      "https://assessment.winnipeg.ca/AsmtTax/pdfs/SelfService/2016/sales_book_market_region_2.pdf\n",
      "https://assessment.winnipeg.ca/AsmtTax/pdfs/SelfService/2016/sales_book_market_region_3.pdf\n",
      "https://assessment.winnipeg.ca/AsmtTax/pdfs/SelfService/2016/sales_book_market_region_4.pdf\n",
      "https://assessment.winnipeg.ca/AsmtTax/pdfs/SelfService/2016/sales_book_market_region_5.pdf\n",
      "https://assessment.winnipeg.ca/AsmtTax/pdfs/SelfService/2016/sales_book_market_region_6.pdf\n",
      "https://assessment.winnipeg.ca/AsmtTax/pdfs/SelfService/2016/sales_book_market_region_7.pdf\n",
      "https://assessment.winnipeg.ca/AsmtTax/pdfs/SelfService/2016/sales_book_market_region_8.pdf\n",
      "https://assessment.winnipeg.ca/AsmtTax/pdfs/SelfService/2016/sales_book_market_region_9.pdf\n",
      "https://assessment.winnipeg.ca/AsmtTax/pdfs/SelfService/2016/sales_book_market_region_10.pdf\n",
      "https://assessment.winnipeg.ca/AsmtTax/pdfs/SelfService/2016/sales_book_condominium.pdf\n",
      "year=2018\n",
      "https://assessment.winnipeg.ca/AsmtTax/pdfs/SelfService/sales_book_market_region_1.pdf\n",
      "https://assessment.winnipeg.ca/AsmtTax/pdfs/SelfService/sales_book_market_region_2.pdf\n",
      "https://assessment.winnipeg.ca/AsmtTax/pdfs/SelfService/sales_book_market_region_3.pdf\n",
      "https://assessment.winnipeg.ca/AsmtTax/pdfs/SelfService/sales_book_market_region_4.pdf\n",
      "https://assessment.winnipeg.ca/AsmtTax/pdfs/SelfService/sales_book_market_region_5.pdf\n",
      "https://assessment.winnipeg.ca/AsmtTax/pdfs/SelfService/sales_book_market_region_6.pdf\n",
      "https://assessment.winnipeg.ca/AsmtTax/pdfs/SelfService/sales_book_market_region_7.pdf\n",
      "https://assessment.winnipeg.ca/AsmtTax/pdfs/SelfService/sales_book_market_region_8.pdf\n",
      "https://assessment.winnipeg.ca/AsmtTax/pdfs/SelfService/sales_book_market_region_9.pdf\n",
      "https://assessment.winnipeg.ca/AsmtTax/pdfs/SelfService/sales_book_market_region_10.pdf\n",
      "https://assessment.winnipeg.ca/AsmtTax/pdfs/SelfService/sales_book_condominium.pdf\n",
      "year=2021\n",
      "https://assessment.winnipeg.ca/AsmtTax/pdfs/SelfService/2021/sales_book_market_region_1.pdf\n",
      "https://assessment.winnipeg.ca/AsmtTax/pdfs/SelfService/2021/sales_book_market_region_2.pdf\n",
      "https://assessment.winnipeg.ca/AsmtTax/pdfs/SelfService/2021/sales_book_market_region_3.pdf\n",
      "https://assessment.winnipeg.ca/AsmtTax/pdfs/SelfService/2021/sales_book_market_region_4.pdf\n",
      "https://assessment.winnipeg.ca/AsmtTax/pdfs/SelfService/2021/sales_book_market_region_5.pdf\n",
      "https://assessment.winnipeg.ca/AsmtTax/pdfs/SelfService/2021/sales_book_market_region_6.pdf\n",
      "https://assessment.winnipeg.ca/AsmtTax/pdfs/SelfService/2021/sales_book_market_region_7.pdf\n",
      "https://assessment.winnipeg.ca/AsmtTax/pdfs/SelfService/2021/sales_book_market_region_8.pdf\n",
      "https://assessment.winnipeg.ca/AsmtTax/pdfs/SelfService/2021/sales_book_market_region_9.pdf\n",
      "https://assessment.winnipeg.ca/AsmtTax/pdfs/SelfService/2021/sales_book_market_region_10.pdf\n",
      "https://assessment.winnipeg.ca/AsmtTax/pdfs/SelfService/2021/sales_book_condominium.pdf\n"
     ]
    }
   ],
   "source": [
    "full_urls = dcfg.full_salebooks_urls()\n",
    "for year in full_urls:\n",
    "    print(f'year={year}')\n",
    "    for salebook_url in full_urls[year]: \n",
    "        print(salebook_url)\n",
    "        "
   ]
  },
  {
   "cell_type": "code",
   "execution_count": 4,
   "metadata": {},
   "outputs": [
    {
     "name": "stdout",
     "output_type": "stream",
     "text": [
      "2012\n",
      "2012\\sales_book_market_region_1.pdf\n",
      "2012\\sales_book_market_region_2.pdf\n",
      "2012\\sales_book_market_region_3.pdf\n",
      "2012\\sales_book_market_region_4.pdf\n",
      "2012\\sales_book_market_region_5.pdf\n",
      "2012\\sales_book_market_region_6.pdf\n",
      "2012\\sales_book_market_region_7.pdf\n",
      "2012\\sales_book_market_region_8.pdf\n",
      "2012\\sales_book_market_region_9.pdf\n",
      "2012\\sales_book_market_region_10.pdf\n",
      "2012\\sales_book_condominium.pdf\n",
      "2014\n",
      "2014\\sales_book_market_region_1.pdf\n",
      "2014\\sales_book_market_region_2.pdf\n",
      "2014\\sales_book_market_region_3.pdf\n",
      "2014\\sales_book_market_region_4.pdf\n",
      "2014\\sales_book_market_region_5.pdf\n",
      "2014\\sales_book_market_region_6.pdf\n",
      "2014\\sales_book_market_region_7.pdf\n",
      "2014\\sales_book_market_region_8.pdf\n",
      "2014\\sales_book_market_region_9.pdf\n",
      "2014\\sales_book_market_region_10.pdf\n",
      "2014\\sales_book_condominium.pdf\n",
      "2016\n",
      "2016\\sales_book_market_region_1.pdf\n",
      "2016\\sales_book_market_region_2.pdf\n",
      "2016\\sales_book_market_region_3.pdf\n",
      "2016\\sales_book_market_region_4.pdf\n",
      "2016\\sales_book_market_region_5.pdf\n",
      "2016\\sales_book_market_region_6.pdf\n",
      "2016\\sales_book_market_region_7.pdf\n",
      "2016\\sales_book_market_region_8.pdf\n",
      "2016\\sales_book_market_region_9.pdf\n",
      "2016\\sales_book_market_region_10.pdf\n",
      "2016\\sales_book_condominium.pdf\n",
      "2018\n",
      "2018\\sales_book_market_region_1.pdf\n",
      "2018\\sales_book_market_region_2.pdf\n",
      "2018\\sales_book_market_region_3.pdf\n",
      "2018\\sales_book_market_region_4.pdf\n",
      "2018\\sales_book_market_region_5.pdf\n",
      "2018\\sales_book_market_region_6.pdf\n",
      "2018\\sales_book_market_region_7.pdf\n",
      "2018\\sales_book_market_region_8.pdf\n",
      "2018\\sales_book_market_region_9.pdf\n",
      "2018\\sales_book_market_region_10.pdf\n",
      "2018\\sales_book_condominium.pdf\n",
      "2021\n",
      "2021\\sales_book_market_region_1.pdf\n",
      "2021\\sales_book_market_region_2.pdf\n",
      "2021\\sales_book_market_region_3.pdf\n",
      "2021\\sales_book_market_region_4.pdf\n",
      "2021\\sales_book_market_region_5.pdf\n",
      "2021\\sales_book_market_region_6.pdf\n",
      "2021\\sales_book_market_region_7.pdf\n",
      "2021\\sales_book_market_region_8.pdf\n",
      "2021\\sales_book_market_region_9.pdf\n",
      "2021\\sales_book_market_region_10.pdf\n",
      "2021\\sales_book_condominium.pdf\n"
     ]
    }
   ],
   "source": [
    "full_path =  dcfg.full_salebooks_paths()\n",
    "for year in full_path:\n",
    "    print(year)\n",
    "    for salebook_path in full_path[year]: \n",
    "        print(salebook_path)"
   ]
  },
  {
   "cell_type": "code",
   "execution_count": 5,
   "metadata": {},
   "outputs": [
    {
     "name": "stdout",
     "output_type": "stream",
     "text": [
      "The dataset is complete in local\n"
     ]
    }
   ],
   "source": [
    "if dcfg.data_validator(): \n",
    "    print('The dataset is complete in local')\n",
    "else:\n",
    "    dcfg.auto_download()"
   ]
  },
  {
   "cell_type": "code",
   "execution_count": 6,
   "metadata": {},
   "outputs": [],
   "source": [
    "path = dcfg.data_save_path / dcfg.pdf_filename(year=2012, type='house', region=1)\n",
    "dcfg.get_headers(fpath=path)"
   ]
  },
  {
   "cell_type": "markdown",
   "metadata": {},
   "source": [
    "Check the headerinfo, with start index, end index and the header string. Always compare with the PDF file if more data (after 2021) is released."
   ]
  },
  {
   "cell_type": "code",
   "execution_count": 7,
   "metadata": {
    "scrolled": true
   },
   "outputs": [
    {
     "data": {
      "text/plain": [
       "[[22, 40, 'Property   Address'],\n",
       " [93, 104, 'Roll Number'],\n",
       " [114, 129, 'Building   Type'],\n",
       " [154, 164, 'Sale  Year'],\n",
       " [172, 183, 'Sale  Month'],\n",
       " [193, 204, 'Sale  Price'],\n",
       " [212, 239, 'Time   Adjust   Sale  Price']]"
      ]
     },
     "execution_count": 7,
     "metadata": {},
     "output_type": "execute_result"
    }
   ],
   "source": [
    "dcfg._headerinfo"
   ]
  },
  {
   "cell_type": "code",
   "execution_count": 8,
   "metadata": {},
   "outputs": [
    {
     "data": {
      "text/plain": [
       "['Property Address',\n",
       " 'Roll Number',\n",
       " 'Building Type',\n",
       " 'Sale Year',\n",
       " 'Sale Month',\n",
       " 'Sale Price',\n",
       " 'Time Adjust Sale Price']"
      ]
     },
     "execution_count": 8,
     "metadata": {},
     "output_type": "execute_result"
    }
   ],
   "source": [
    "dcfg._headers"
   ]
  },
  {
   "cell_type": "code",
   "execution_count": 9,
   "metadata": {},
   "outputs": [],
   "source": [
    "pdfinfo = dcfg.pdf_to_datafram(fpath=path)"
   ]
  },
  {
   "cell_type": "code",
   "execution_count": 10,
   "metadata": {},
   "outputs": [
    {
     "data": {
      "text/html": [
       "<div>\n",
       "<style scoped>\n",
       "    .dataframe tbody tr th:only-of-type {\n",
       "        vertical-align: middle;\n",
       "    }\n",
       "\n",
       "    .dataframe tbody tr th {\n",
       "        vertical-align: top;\n",
       "    }\n",
       "\n",
       "    .dataframe thead th {\n",
       "        text-align: right;\n",
       "    }\n",
       "</style>\n",
       "<table border=\"1\" class=\"dataframe\">\n",
       "  <thead>\n",
       "    <tr style=\"text-align: right;\">\n",
       "      <th></th>\n",
       "      <th>Property Address</th>\n",
       "      <th>Roll Number</th>\n",
       "      <th>Building Type</th>\n",
       "      <th>Sale Year</th>\n",
       "      <th>Sale Month</th>\n",
       "      <th>Sale Price</th>\n",
       "      <th>Time Adjust Sale Price</th>\n",
       "    </tr>\n",
       "  </thead>\n",
       "  <tbody>\n",
       "    <tr>\n",
       "      <th>0</th>\n",
       "      <td>201 BISMARCK ST</td>\n",
       "      <td>09005505000</td>\n",
       "      <td>ONE STOREY</td>\n",
       "      <td>2010</td>\n",
       "      <td>10</td>\n",
       "      <td>$215,500</td>\n",
       "      <td>$236,835</td>\n",
       "    </tr>\n",
       "    <tr>\n",
       "      <th>1</th>\n",
       "      <td>100 KANATA ST</td>\n",
       "      <td>09000106000</td>\n",
       "      <td>TWO STOREY</td>\n",
       "      <td>2011</td>\n",
       "      <td>3</td>\n",
       "      <td>$165,000</td>\n",
       "      <td>$177,210</td>\n",
       "    </tr>\n",
       "    <tr>\n",
       "      <th>2</th>\n",
       "      <td>118 MELROSE AVE E</td>\n",
       "      <td>09000097000</td>\n",
       "      <td>ONE &amp; 1/2 STOREY</td>\n",
       "      <td>2010</td>\n",
       "      <td>10</td>\n",
       "      <td>$106,000</td>\n",
       "      <td>$116,494</td>\n",
       "    </tr>\n",
       "    <tr>\n",
       "      <th>3</th>\n",
       "      <td>122 MELROSE AVE E</td>\n",
       "      <td>09000097500</td>\n",
       "      <td>ONE STOREY</td>\n",
       "      <td>2010</td>\n",
       "      <td>12</td>\n",
       "      <td>$125,500</td>\n",
       "      <td>$137,172</td>\n",
       "    </tr>\n",
       "    <tr>\n",
       "      <th>4</th>\n",
       "      <td>124 MELROSE AVE E</td>\n",
       "      <td>09000098000</td>\n",
       "      <td>ONE STOREY</td>\n",
       "      <td>2011</td>\n",
       "      <td>3</td>\n",
       "      <td>$175,000</td>\n",
       "      <td>$187,950</td>\n",
       "    </tr>\n",
       "    <tr>\n",
       "      <th>...</th>\n",
       "      <td>...</td>\n",
       "      <td>...</td>\n",
       "      <td>...</td>\n",
       "      <td>...</td>\n",
       "      <td>...</td>\n",
       "      <td>...</td>\n",
       "      <td>...</td>\n",
       "    </tr>\n",
       "    <tr>\n",
       "      <th>1828</th>\n",
       "      <td>1029 THEO NUYTTEN ST</td>\n",
       "      <td>06031169000</td>\n",
       "      <td>ONE STOREY</td>\n",
       "      <td>2010</td>\n",
       "      <td>6</td>\n",
       "      <td>$138,200</td>\n",
       "      <td>$153,540</td>\n",
       "    </tr>\n",
       "    <tr>\n",
       "      <th>1829</th>\n",
       "      <td>841 DUGALD RD</td>\n",
       "      <td>06051170000</td>\n",
       "      <td>ONE STOREY</td>\n",
       "      <td>2011</td>\n",
       "      <td>8</td>\n",
       "      <td>$195,000</td>\n",
       "      <td>$203,580</td>\n",
       "    </tr>\n",
       "    <tr>\n",
       "      <th>1830</th>\n",
       "      <td>845 DUGALD RD</td>\n",
       "      <td>06051171000</td>\n",
       "      <td>ONE &amp; 1/2 STOREY</td>\n",
       "      <td>2010</td>\n",
       "      <td>7</td>\n",
       "      <td>$140,000</td>\n",
       "      <td>$155,120</td>\n",
       "    </tr>\n",
       "    <tr>\n",
       "      <th>1831</th>\n",
       "      <td>911 DUGALD RD</td>\n",
       "      <td>06051198000</td>\n",
       "      <td>ONE STOREY</td>\n",
       "      <td>2011</td>\n",
       "      <td>5</td>\n",
       "      <td>$200,000</td>\n",
       "      <td>$212,400</td>\n",
       "    </tr>\n",
       "    <tr>\n",
       "      <th>1832</th>\n",
       "      <td>498 PLINGUET ST</td>\n",
       "      <td>06051134500</td>\n",
       "      <td>ONE STOREY</td>\n",
       "      <td>2011</td>\n",
       "      <td>12</td>\n",
       "      <td>$105,000</td>\n",
       "      <td>$107,100</td>\n",
       "    </tr>\n",
       "  </tbody>\n",
       "</table>\n",
       "<p>1833 rows × 7 columns</p>\n",
       "</div>"
      ],
      "text/plain": [
       "          Property Address  Roll Number     Building Type Sale Year  \\\n",
       "0          201 BISMARCK ST  09005505000        ONE STOREY      2010   \n",
       "1            100 KANATA ST  09000106000        TWO STOREY      2011   \n",
       "2        118 MELROSE AVE E  09000097000  ONE & 1/2 STOREY      2010   \n",
       "3        122 MELROSE AVE E  09000097500        ONE STOREY      2010   \n",
       "4        124 MELROSE AVE E  09000098000        ONE STOREY      2011   \n",
       "...                    ...          ...               ...       ...   \n",
       "1828  1029 THEO NUYTTEN ST  06031169000        ONE STOREY      2010   \n",
       "1829         841 DUGALD RD  06051170000        ONE STOREY      2011   \n",
       "1830         845 DUGALD RD  06051171000  ONE & 1/2 STOREY      2010   \n",
       "1831         911 DUGALD RD  06051198000        ONE STOREY      2011   \n",
       "1832       498 PLINGUET ST  06051134500        ONE STOREY      2011   \n",
       "\n",
       "     Sale Month Sale Price Time Adjust Sale Price  \n",
       "0            10   $215,500               $236,835  \n",
       "1             3   $165,000               $177,210  \n",
       "2            10   $106,000               $116,494  \n",
       "3            12   $125,500               $137,172  \n",
       "4             3   $175,000               $187,950  \n",
       "...         ...        ...                    ...  \n",
       "1828          6   $138,200               $153,540  \n",
       "1829          8   $195,000               $203,580  \n",
       "1830          7   $140,000               $155,120  \n",
       "1831          5   $200,000               $212,400  \n",
       "1832         12   $105,000               $107,100  \n",
       "\n",
       "[1833 rows x 7 columns]"
      ]
     },
     "execution_count": 10,
     "metadata": {},
     "output_type": "execute_result"
    }
   ],
   "source": [
    "pdfinfo"
   ]
  },
  {
   "cell_type": "code",
   "execution_count": null,
   "metadata": {},
   "outputs": [],
   "source": []
  }
 ],
 "metadata": {
  "kernelspec": {
   "display_name": "Python 3",
   "language": "python",
   "name": "python3"
  },
  "language_info": {
   "codemirror_mode": {
    "name": "ipython",
    "version": 3
   },
   "file_extension": ".py",
   "mimetype": "text/x-python",
   "name": "python",
   "nbconvert_exporter": "python",
   "pygments_lexer": "ipython3",
   "version": "3.8.3"
  }
 },
 "nbformat": 4,
 "nbformat_minor": 4
}
