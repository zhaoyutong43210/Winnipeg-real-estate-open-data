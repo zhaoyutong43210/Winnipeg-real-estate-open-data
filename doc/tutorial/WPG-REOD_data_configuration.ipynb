{
 "cells": [
  {
   "cell_type": "markdown",
   "metadata": {},
   "source": [
    "# Data configuration: Winnipeg Real Estate public data"
   ]
  },
  {
   "cell_type": "code",
   "execution_count": 1,
   "metadata": {},
   "outputs": [],
   "source": [
    "from wpgdata.data import wpgdata_cfg\n",
    "from wpgdata.utils import clean_str\n",
    "import numpy as np\n",
    "import pandas as pd"
   ]
  },
  {
   "cell_type": "code",
   "execution_count": 2,
   "metadata": {},
   "outputs": [
    {
     "data": {
      "text/plain": [
       "PosixPath('/home/yutong.zhao/htmls/Winnipeg-real-estate-open-data/Winnipeg_real_estate_open_data')"
      ]
     },
     "execution_count": 2,
     "metadata": {},
     "output_type": "execute_result"
    }
   ],
   "source": [
    "dcfg = wpgdata_cfg()\n",
    "dcfg.data_save_path"
   ]
  },
  {
   "cell_type": "markdown",
   "metadata": {},
   "source": [
    "### automatically download the full data files from website"
   ]
  },
  {
   "cell_type": "code",
   "execution_count": 3,
   "metadata": {
    "scrolled": true
   },
   "outputs": [
    {
     "name": "stdout",
     "output_type": "stream",
     "text": [
      "year=2012\n",
      "https://assessment.winnipeg.ca/AsmtTax/pdfs/SelfService/2012/sales_book_market_region_1.pdf\n",
      "https://assessment.winnipeg.ca/AsmtTax/pdfs/SelfService/2012/sales_book_market_region_2.pdf\n",
      "https://assessment.winnipeg.ca/AsmtTax/pdfs/SelfService/2012/sales_book_market_region_3.pdf\n",
      "https://assessment.winnipeg.ca/AsmtTax/pdfs/SelfService/2012/sales_book_market_region_4.pdf\n",
      "https://assessment.winnipeg.ca/AsmtTax/pdfs/SelfService/2012/sales_book_market_region_5.pdf\n",
      "https://assessment.winnipeg.ca/AsmtTax/pdfs/SelfService/2012/sales_book_market_region_6.pdf\n",
      "https://assessment.winnipeg.ca/AsmtTax/pdfs/SelfService/2012/sales_book_market_region_7.pdf\n",
      "https://assessment.winnipeg.ca/AsmtTax/pdfs/SelfService/2012/sales_book_market_region_8.pdf\n",
      "https://assessment.winnipeg.ca/AsmtTax/pdfs/SelfService/2012/sales_book_market_region_9.pdf\n",
      "https://assessment.winnipeg.ca/AsmtTax/pdfs/SelfService/2012/sales_book_market_region_10.pdf\n",
      "https://assessment.winnipeg.ca/AsmtTax/pdfs/SelfService/2012/sales_book_condominium.pdf\n",
      "year=2014\n",
      "https://assessment.winnipeg.ca/AsmtTax/pdfs/SelfService/2014/sales_book_market_region_1.pdf\n",
      "https://assessment.winnipeg.ca/AsmtTax/pdfs/SelfService/2014/sales_book_market_region_2.pdf\n",
      "https://assessment.winnipeg.ca/AsmtTax/pdfs/SelfService/2014/sales_book_market_region_3.pdf\n",
      "https://assessment.winnipeg.ca/AsmtTax/pdfs/SelfService/2014/sales_book_market_region_4.pdf\n",
      "https://assessment.winnipeg.ca/AsmtTax/pdfs/SelfService/2014/sales_book_market_region_5.pdf\n",
      "https://assessment.winnipeg.ca/AsmtTax/pdfs/SelfService/2014/sales_book_market_region_6.pdf\n",
      "https://assessment.winnipeg.ca/AsmtTax/pdfs/SelfService/2014/sales_book_market_region_7.pdf\n",
      "https://assessment.winnipeg.ca/AsmtTax/pdfs/SelfService/2014/sales_book_market_region_8.pdf\n",
      "https://assessment.winnipeg.ca/AsmtTax/pdfs/SelfService/2014/sales_book_market_region_9.pdf\n",
      "https://assessment.winnipeg.ca/AsmtTax/pdfs/SelfService/2014/sales_book_market_region_10.pdf\n",
      "https://assessment.winnipeg.ca/AsmtTax/pdfs/SelfService/2014/sales_book_condominium.pdf\n",
      "year=2016\n",
      "https://assessment.winnipeg.ca/AsmtTax/pdfs/SelfService/2016/sales_book_market_region_1.pdf\n",
      "https://assessment.winnipeg.ca/AsmtTax/pdfs/SelfService/2016/sales_book_market_region_2.pdf\n",
      "https://assessment.winnipeg.ca/AsmtTax/pdfs/SelfService/2016/sales_book_market_region_3.pdf\n",
      "https://assessment.winnipeg.ca/AsmtTax/pdfs/SelfService/2016/sales_book_market_region_4.pdf\n",
      "https://assessment.winnipeg.ca/AsmtTax/pdfs/SelfService/2016/sales_book_market_region_5.pdf\n",
      "https://assessment.winnipeg.ca/AsmtTax/pdfs/SelfService/2016/sales_book_market_region_6.pdf\n",
      "https://assessment.winnipeg.ca/AsmtTax/pdfs/SelfService/2016/sales_book_market_region_7.pdf\n",
      "https://assessment.winnipeg.ca/AsmtTax/pdfs/SelfService/2016/sales_book_market_region_8.pdf\n",
      "https://assessment.winnipeg.ca/AsmtTax/pdfs/SelfService/2016/sales_book_market_region_9.pdf\n",
      "https://assessment.winnipeg.ca/AsmtTax/pdfs/SelfService/2016/sales_book_market_region_10.pdf\n",
      "https://assessment.winnipeg.ca/AsmtTax/pdfs/SelfService/2016/sales_book_condominium.pdf\n",
      "year=2018\n",
      "https://assessment.winnipeg.ca/AsmtTax/pdfs/SelfService/sales_book_market_region_1.pdf\n",
      "https://assessment.winnipeg.ca/AsmtTax/pdfs/SelfService/sales_book_market_region_2.pdf\n",
      "https://assessment.winnipeg.ca/AsmtTax/pdfs/SelfService/sales_book_market_region_3.pdf\n",
      "https://assessment.winnipeg.ca/AsmtTax/pdfs/SelfService/sales_book_market_region_4.pdf\n",
      "https://assessment.winnipeg.ca/AsmtTax/pdfs/SelfService/sales_book_market_region_5.pdf\n",
      "https://assessment.winnipeg.ca/AsmtTax/pdfs/SelfService/sales_book_market_region_6.pdf\n",
      "https://assessment.winnipeg.ca/AsmtTax/pdfs/SelfService/sales_book_market_region_7.pdf\n",
      "https://assessment.winnipeg.ca/AsmtTax/pdfs/SelfService/sales_book_market_region_8.pdf\n",
      "https://assessment.winnipeg.ca/AsmtTax/pdfs/SelfService/sales_book_market_region_9.pdf\n",
      "https://assessment.winnipeg.ca/AsmtTax/pdfs/SelfService/sales_book_market_region_10.pdf\n",
      "https://assessment.winnipeg.ca/AsmtTax/pdfs/SelfService/sales_book_condominium.pdf\n",
      "year=2021\n",
      "https://assessment.winnipeg.ca/AsmtTax/pdfs/SelfService/2021/sales_book_market_region_1.pdf\n",
      "https://assessment.winnipeg.ca/AsmtTax/pdfs/SelfService/2021/sales_book_market_region_2.pdf\n",
      "https://assessment.winnipeg.ca/AsmtTax/pdfs/SelfService/2021/sales_book_market_region_3.pdf\n",
      "https://assessment.winnipeg.ca/AsmtTax/pdfs/SelfService/2021/sales_book_market_region_4.pdf\n",
      "https://assessment.winnipeg.ca/AsmtTax/pdfs/SelfService/2021/sales_book_market_region_5.pdf\n",
      "https://assessment.winnipeg.ca/AsmtTax/pdfs/SelfService/2021/sales_book_market_region_6.pdf\n",
      "https://assessment.winnipeg.ca/AsmtTax/pdfs/SelfService/2021/sales_book_market_region_7.pdf\n",
      "https://assessment.winnipeg.ca/AsmtTax/pdfs/SelfService/2021/sales_book_market_region_8.pdf\n",
      "https://assessment.winnipeg.ca/AsmtTax/pdfs/SelfService/2021/sales_book_market_region_9.pdf\n",
      "https://assessment.winnipeg.ca/AsmtTax/pdfs/SelfService/2021/sales_book_market_region_10.pdf\n",
      "https://assessment.winnipeg.ca/AsmtTax/pdfs/SelfService/2021/sales_book_condominium.pdf\n"
     ]
    }
   ],
   "source": [
    "full_urls = dcfg.full_salebooks_urls()\n",
    "for year in full_urls:\n",
    "    print(f'year={year}')\n",
    "    for salebook_url in full_urls[year]: \n",
    "        print(salebook_url)\n",
    "        "
   ]
  },
  {
   "cell_type": "code",
   "execution_count": 4,
   "metadata": {},
   "outputs": [
    {
     "name": "stdout",
     "output_type": "stream",
     "text": [
      "2012\n",
      "2012/sales_book_market_region_1.pdf\n",
      "2012/sales_book_market_region_2.pdf\n",
      "2012/sales_book_market_region_3.pdf\n",
      "2012/sales_book_market_region_4.pdf\n",
      "2012/sales_book_market_region_5.pdf\n",
      "2012/sales_book_market_region_6.pdf\n",
      "2012/sales_book_market_region_7.pdf\n",
      "2012/sales_book_market_region_8.pdf\n",
      "2012/sales_book_market_region_9.pdf\n",
      "2012/sales_book_market_region_10.pdf\n",
      "2012/sales_book_condominium.pdf\n",
      "2014\n",
      "2014/sales_book_market_region_1.pdf\n",
      "2014/sales_book_market_region_2.pdf\n",
      "2014/sales_book_market_region_3.pdf\n",
      "2014/sales_book_market_region_4.pdf\n",
      "2014/sales_book_market_region_5.pdf\n",
      "2014/sales_book_market_region_6.pdf\n",
      "2014/sales_book_market_region_7.pdf\n",
      "2014/sales_book_market_region_8.pdf\n",
      "2014/sales_book_market_region_9.pdf\n",
      "2014/sales_book_market_region_10.pdf\n",
      "2014/sales_book_condominium.pdf\n",
      "2016\n",
      "2016/sales_book_market_region_1.pdf\n",
      "2016/sales_book_market_region_2.pdf\n",
      "2016/sales_book_market_region_3.pdf\n",
      "2016/sales_book_market_region_4.pdf\n",
      "2016/sales_book_market_region_5.pdf\n",
      "2016/sales_book_market_region_6.pdf\n",
      "2016/sales_book_market_region_7.pdf\n",
      "2016/sales_book_market_region_8.pdf\n",
      "2016/sales_book_market_region_9.pdf\n",
      "2016/sales_book_market_region_10.pdf\n",
      "2016/sales_book_condominium.pdf\n",
      "2018\n",
      "2018/sales_book_market_region_1.pdf\n",
      "2018/sales_book_market_region_2.pdf\n",
      "2018/sales_book_market_region_3.pdf\n",
      "2018/sales_book_market_region_4.pdf\n",
      "2018/sales_book_market_region_5.pdf\n",
      "2018/sales_book_market_region_6.pdf\n",
      "2018/sales_book_market_region_7.pdf\n",
      "2018/sales_book_market_region_8.pdf\n",
      "2018/sales_book_market_region_9.pdf\n",
      "2018/sales_book_market_region_10.pdf\n",
      "2018/sales_book_condominium.pdf\n",
      "2021\n",
      "2021/sales_book_market_region_1.pdf\n",
      "2021/sales_book_market_region_2.pdf\n",
      "2021/sales_book_market_region_3.pdf\n",
      "2021/sales_book_market_region_4.pdf\n",
      "2021/sales_book_market_region_5.pdf\n",
      "2021/sales_book_market_region_6.pdf\n",
      "2021/sales_book_market_region_7.pdf\n",
      "2021/sales_book_market_region_8.pdf\n",
      "2021/sales_book_market_region_9.pdf\n",
      "2021/sales_book_market_region_10.pdf\n",
      "2021/sales_book_condominium.pdf\n"
     ]
    }
   ],
   "source": [
    "full_path =  dcfg.full_salebooks_paths()\n",
    "for year in full_path:\n",
    "    print(year)\n",
    "    for salebook_path in full_path[year]: \n",
    "        print(salebook_path)"
   ]
  },
  {
   "cell_type": "code",
   "execution_count": 5,
   "metadata": {},
   "outputs": [
    {
     "name": "stdout",
     "output_type": "stream",
     "text": [
      "The dataset is complete in local\n"
     ]
    }
   ],
   "source": [
    "if dcfg.data_validator(): \n",
    "    print('The dataset is complete in local')\n",
    "else:\n",
    "    dcfg.auto_download()"
   ]
  },
  {
   "cell_type": "code",
   "execution_count": 6,
   "metadata": {},
   "outputs": [],
   "source": [
    "path = dcfg.data_save_path / dcfg.data_filename(year=2018, type='house', region=1)\n",
    "dcfg.get_headers(fpath=path)"
   ]
  },
  {
   "cell_type": "markdown",
   "metadata": {},
   "source": [
    "Check the headerinfo, with start index, end index and the header string. Always compare with the PDF file if more data (after 2021) is released."
   ]
  },
  {
   "cell_type": "code",
   "execution_count": 7,
   "metadata": {
    "scrolled": true
   },
   "outputs": [
    {
     "data": {
      "text/plain": [
       "[[24, 43, 'Property    Address'],\n",
       " [90, 101, 'Roll Number'],\n",
       " [110, 126, 'Building    Type'],\n",
       " [153, 163, 'Sale  Year'],\n",
       " [172, 183, 'Sale  Month'],\n",
       " [193, 204, 'Sale  Price'],\n",
       " [223, 236, 'Time   Adjust']]"
      ]
     },
     "execution_count": 7,
     "metadata": {},
     "output_type": "execute_result"
    }
   ],
   "source": [
    "dcfg._headerinfo"
   ]
  },
  {
   "cell_type": "code",
   "execution_count": 8,
   "metadata": {},
   "outputs": [
    {
     "data": {
      "text/plain": [
       "['Property Address',\n",
       " 'Roll Number',\n",
       " 'Building Type',\n",
       " 'Sale Year',\n",
       " 'Sale Month',\n",
       " 'Sale Price',\n",
       " 'Time Adjust']"
      ]
     },
     "execution_count": 8,
     "metadata": {},
     "output_type": "execute_result"
    }
   ],
   "source": [
    "dcfg._headers"
   ]
  },
  {
   "cell_type": "code",
   "execution_count": 9,
   "metadata": {},
   "outputs": [],
   "source": [
    "pdfinfo = dcfg.pdf_to_datafram(fpath=path, trigger_str=[['Address', 'Roll'], ['Page', 'of']])\n",
    "# pdfinfo = dcfg.pdf_to_datafram(fpath=path)"
   ]
  },
  {
   "cell_type": "code",
   "execution_count": 10,
   "metadata": {
    "scrolled": true
   },
   "outputs": [
    {
     "data": {
      "text/html": [
       "<div>\n",
       "<style scoped>\n",
       "    .dataframe tbody tr th:only-of-type {\n",
       "        vertical-align: middle;\n",
       "    }\n",
       "\n",
       "    .dataframe tbody tr th {\n",
       "        vertical-align: top;\n",
       "    }\n",
       "\n",
       "    .dataframe thead th {\n",
       "        text-align: right;\n",
       "    }\n",
       "</style>\n",
       "<table border=\"1\" class=\"dataframe\">\n",
       "  <thead>\n",
       "    <tr style=\"text-align: right;\">\n",
       "      <th></th>\n",
       "      <th>0</th>\n",
       "      <th>1</th>\n",
       "      <th>2</th>\n",
       "      <th>3</th>\n",
       "      <th>4</th>\n",
       "      <th>5</th>\n",
       "      <th>6</th>\n",
       "    </tr>\n",
       "  </thead>\n",
       "  <tbody>\n",
       "    <tr>\n",
       "      <th>0</th>\n",
       "      <td>618 MELROSE AVE W</td>\n",
       "      <td>9005552500</td>\n",
       "      <td>OS-ONE STOREY</td>\n",
       "      <td>2017</td>\n",
       "      <td>03</td>\n",
       "      <td>$ 235000</td>\n",
       "      <td>$ 240400</td>\n",
       "    </tr>\n",
       "    <tr>\n",
       "      <th>1</th>\n",
       "      <td>631 MELROSE AVE W</td>\n",
       "      <td>9005510000</td>\n",
       "      <td>OS-ONE STOREY</td>\n",
       "      <td>2016</td>\n",
       "      <td>09</td>\n",
       "      <td>$ 238631</td>\n",
       "      <td>$ 246700</td>\n",
       "    </tr>\n",
       "    <tr>\n",
       "      <th>2</th>\n",
       "      <td>709 MELROSE AVE W</td>\n",
       "      <td>9005519500</td>\n",
       "      <td>OS-ONE STOREY</td>\n",
       "      <td>2016</td>\n",
       "      <td>11</td>\n",
       "      <td>$ 280000</td>\n",
       "      <td>$ 288700</td>\n",
       "    </tr>\n",
       "    <tr>\n",
       "      <th>3</th>\n",
       "      <td>716 MELROSE AVE W</td>\n",
       "      <td>9005540500</td>\n",
       "      <td>OS-ONE STOREY</td>\n",
       "      <td>2016</td>\n",
       "      <td>12</td>\n",
       "      <td>$ 245000</td>\n",
       "      <td>$ 252100</td>\n",
       "    </tr>\n",
       "    <tr>\n",
       "      <th>4</th>\n",
       "      <td>717 MELROSE AVE W</td>\n",
       "      <td>9005521000</td>\n",
       "      <td>OS-ONE STOREY</td>\n",
       "      <td>2016</td>\n",
       "      <td>07</td>\n",
       "      <td>$ 265000</td>\n",
       "      <td>$ 275100</td>\n",
       "    </tr>\n",
       "    <tr>\n",
       "      <th>...</th>\n",
       "      <td>...</td>\n",
       "      <td>...</td>\n",
       "      <td>...</td>\n",
       "      <td>...</td>\n",
       "      <td>...</td>\n",
       "      <td>...</td>\n",
       "      <td>...</td>\n",
       "    </tr>\n",
       "    <tr>\n",
       "      <th>1614</th>\n",
       "      <td>126 VILLAGE COVE</td>\n",
       "      <td>6093425000</td>\n",
       "      <td>TS-TWO STOREY</td>\n",
       "      <td>2016</td>\n",
       "      <td>08</td>\n",
       "      <td>$ 285000</td>\n",
       "      <td>$ 295300</td>\n",
       "    </tr>\n",
       "    <tr>\n",
       "      <th>1615</th>\n",
       "      <td>35 WAVECREST COVE</td>\n",
       "      <td>6093314400</td>\n",
       "      <td>OS-ONE STOREY</td>\n",
       "      <td>2016</td>\n",
       "      <td>01</td>\n",
       "      <td>$ 422500</td>\n",
       "      <td>$ 443600</td>\n",
       "    </tr>\n",
       "    <tr>\n",
       "      <th>1616</th>\n",
       "      <td>39 WAVECREST COVE</td>\n",
       "      <td>6093314500</td>\n",
       "      <td>TS-TWO STOREY</td>\n",
       "      <td>2017</td>\n",
       "      <td>07</td>\n",
       "      <td>$ 389900</td>\n",
       "      <td>$ 395700</td>\n",
       "    </tr>\n",
       "    <tr>\n",
       "      <th>1617</th>\n",
       "      <td>47 WAVECREST COVE</td>\n",
       "      <td>6093314700</td>\n",
       "      <td>TS-TWO STOREY</td>\n",
       "      <td>2017</td>\n",
       "      <td>10</td>\n",
       "      <td>$ 400000</td>\n",
       "      <td>$ 403600</td>\n",
       "    </tr>\n",
       "    <tr>\n",
       "      <th>1618</th>\n",
       "      <td>963 MISSION ST</td>\n",
       "      <td>6093460100</td>\n",
       "      <td>TL-3 LEVEL SPLIT</td>\n",
       "      <td>2017</td>\n",
       "      <td>10</td>\n",
       "      <td>$ 450000</td>\n",
       "      <td>$ 454100</td>\n",
       "    </tr>\n",
       "  </tbody>\n",
       "</table>\n",
       "<p>1619 rows × 7 columns</p>\n",
       "</div>"
      ],
      "text/plain": [
       "                      0           1                 2     3   4         5   \n",
       "0     618 MELROSE AVE W  9005552500     OS-ONE STOREY  2017  03  $ 235000  \\\n",
       "1     631 MELROSE AVE W  9005510000     OS-ONE STOREY  2016  09  $ 238631   \n",
       "2     709 MELROSE AVE W  9005519500     OS-ONE STOREY  2016  11  $ 280000   \n",
       "3     716 MELROSE AVE W  9005540500     OS-ONE STOREY  2016  12  $ 245000   \n",
       "4     717 MELROSE AVE W  9005521000     OS-ONE STOREY  2016  07  $ 265000   \n",
       "...                 ...         ...               ...   ...  ..       ...   \n",
       "1614   126 VILLAGE COVE  6093425000     TS-TWO STOREY  2016  08  $ 285000   \n",
       "1615  35 WAVECREST COVE  6093314400     OS-ONE STOREY  2016  01  $ 422500   \n",
       "1616  39 WAVECREST COVE  6093314500     TS-TWO STOREY  2017  07  $ 389900   \n",
       "1617  47 WAVECREST COVE  6093314700     TS-TWO STOREY  2017  10  $ 400000   \n",
       "1618     963 MISSION ST  6093460100  TL-3 LEVEL SPLIT  2017  10  $ 450000   \n",
       "\n",
       "             6  \n",
       "0     $ 240400  \n",
       "1     $ 246700  \n",
       "2     $ 288700  \n",
       "3     $ 252100  \n",
       "4     $ 275100  \n",
       "...        ...  \n",
       "1614  $ 295300  \n",
       "1615  $ 443600  \n",
       "1616  $ 395700  \n",
       "1617  $ 403600  \n",
       "1618  $ 454100  \n",
       "\n",
       "[1619 rows x 7 columns]"
      ]
     },
     "execution_count": 10,
     "metadata": {},
     "output_type": "execute_result"
    }
   ],
   "source": [
    "pdfinfo"
   ]
  },
  {
   "cell_type": "code",
   "execution_count": 11,
   "metadata": {},
   "outputs": [
    {
     "name": "stderr",
     "output_type": "stream",
     "text": [
      " 2023-08-30 14:24:21,565 - INFO - file /home/yutong.zhao/htmls/Winnipeg-real-estate-open-data/Winnipeg_real_estate_open_data/2012/sales_book_market_region_1.pdf successfully transfered!\n",
      " 2023-08-30 14:24:34,953 - INFO - file /home/yutong.zhao/htmls/Winnipeg-real-estate-open-data/Winnipeg_real_estate_open_data/2012/sales_book_market_region_2.pdf successfully transfered!\n",
      " 2023-08-30 14:24:49,655 - INFO - file /home/yutong.zhao/htmls/Winnipeg-real-estate-open-data/Winnipeg_real_estate_open_data/2012/sales_book_market_region_3.pdf successfully transfered!\n",
      " 2023-08-30 14:25:08,092 - INFO - file /home/yutong.zhao/htmls/Winnipeg-real-estate-open-data/Winnipeg_real_estate_open_data/2012/sales_book_market_region_4.pdf successfully transfered!\n",
      " 2023-08-30 14:25:17,532 - INFO - file /home/yutong.zhao/htmls/Winnipeg-real-estate-open-data/Winnipeg_real_estate_open_data/2012/sales_book_market_region_5.pdf successfully transfered!\n",
      " 2023-08-30 14:25:21,359 - INFO - file /home/yutong.zhao/htmls/Winnipeg-real-estate-open-data/Winnipeg_real_estate_open_data/2012/sales_book_market_region_6.pdf successfully transfered!\n",
      " 2023-08-30 14:25:32,382 - INFO - file /home/yutong.zhao/htmls/Winnipeg-real-estate-open-data/Winnipeg_real_estate_open_data/2012/sales_book_market_region_7.pdf successfully transfered!\n",
      " 2023-08-30 14:25:44,910 - INFO - file /home/yutong.zhao/htmls/Winnipeg-real-estate-open-data/Winnipeg_real_estate_open_data/2012/sales_book_market_region_8.pdf successfully transfered!\n",
      " 2023-08-30 14:25:51,938 - INFO - file /home/yutong.zhao/htmls/Winnipeg-real-estate-open-data/Winnipeg_real_estate_open_data/2012/sales_book_market_region_9.pdf successfully transfered!\n",
      " 2023-08-30 14:26:04,616 - INFO - file /home/yutong.zhao/htmls/Winnipeg-real-estate-open-data/Winnipeg_real_estate_open_data/2012/sales_book_market_region_10.pdf successfully transfered!\n",
      " 2023-08-30 14:26:24,271 - INFO - file /home/yutong.zhao/htmls/Winnipeg-real-estate-open-data/Winnipeg_real_estate_open_data/2012/sales_book_condominium.pdf successfully transfered!\n",
      " 2023-08-30 14:26:34,145 - INFO - file /home/yutong.zhao/htmls/Winnipeg-real-estate-open-data/Winnipeg_real_estate_open_data/2014/sales_book_market_region_1.pdf successfully transfered!\n",
      " 2023-08-30 14:26:47,123 - INFO - file /home/yutong.zhao/htmls/Winnipeg-real-estate-open-data/Winnipeg_real_estate_open_data/2014/sales_book_market_region_2.pdf successfully transfered!\n",
      " 2023-08-30 14:27:00,041 - INFO - file /home/yutong.zhao/htmls/Winnipeg-real-estate-open-data/Winnipeg_real_estate_open_data/2014/sales_book_market_region_3.pdf successfully transfered!\n",
      " 2023-08-30 14:27:15,857 - INFO - file /home/yutong.zhao/htmls/Winnipeg-real-estate-open-data/Winnipeg_real_estate_open_data/2014/sales_book_market_region_4.pdf successfully transfered!\n",
      " 2023-08-30 14:27:25,283 - INFO - file /home/yutong.zhao/htmls/Winnipeg-real-estate-open-data/Winnipeg_real_estate_open_data/2014/sales_book_market_region_5.pdf successfully transfered!\n",
      " 2023-08-30 14:27:29,520 - INFO - file /home/yutong.zhao/htmls/Winnipeg-real-estate-open-data/Winnipeg_real_estate_open_data/2014/sales_book_market_region_6.pdf successfully transfered!\n",
      " 2023-08-30 14:27:39,166 - INFO - file /home/yutong.zhao/htmls/Winnipeg-real-estate-open-data/Winnipeg_real_estate_open_data/2014/sales_book_market_region_7.pdf successfully transfered!\n",
      " 2023-08-30 14:27:51,876 - INFO - file /home/yutong.zhao/htmls/Winnipeg-real-estate-open-data/Winnipeg_real_estate_open_data/2014/sales_book_market_region_8.pdf successfully transfered!\n",
      " 2023-08-30 14:27:58,233 - INFO - file /home/yutong.zhao/htmls/Winnipeg-real-estate-open-data/Winnipeg_real_estate_open_data/2014/sales_book_market_region_9.pdf successfully transfered!\n",
      " 2023-08-30 14:28:09,771 - INFO - file /home/yutong.zhao/htmls/Winnipeg-real-estate-open-data/Winnipeg_real_estate_open_data/2014/sales_book_market_region_10.pdf successfully transfered!\n",
      " 2023-08-30 14:28:28,181 - INFO - file /home/yutong.zhao/htmls/Winnipeg-real-estate-open-data/Winnipeg_real_estate_open_data/2014/sales_book_condominium.pdf successfully transfered!\n",
      " 2023-08-30 14:28:34,872 - INFO - file /home/yutong.zhao/htmls/Winnipeg-real-estate-open-data/Winnipeg_real_estate_open_data/2016/sales_book_market_region_1.pdf successfully transfered!\n",
      " 2023-08-30 14:28:43,326 - INFO - file /home/yutong.zhao/htmls/Winnipeg-real-estate-open-data/Winnipeg_real_estate_open_data/2016/sales_book_market_region_2.pdf successfully transfered!\n",
      " 2023-08-30 14:28:52,351 - INFO - file /home/yutong.zhao/htmls/Winnipeg-real-estate-open-data/Winnipeg_real_estate_open_data/2016/sales_book_market_region_3.pdf successfully transfered!\n",
      " 2023-08-30 14:29:01,949 - INFO - file /home/yutong.zhao/htmls/Winnipeg-real-estate-open-data/Winnipeg_real_estate_open_data/2016/sales_book_market_region_4.pdf successfully transfered!\n",
      " 2023-08-30 14:29:08,355 - INFO - file /home/yutong.zhao/htmls/Winnipeg-real-estate-open-data/Winnipeg_real_estate_open_data/2016/sales_book_market_region_5.pdf successfully transfered!\n",
      " 2023-08-30 14:29:10,933 - INFO - file /home/yutong.zhao/htmls/Winnipeg-real-estate-open-data/Winnipeg_real_estate_open_data/2016/sales_book_market_region_6.pdf successfully transfered!\n",
      " 2023-08-30 14:29:18,127 - INFO - file /home/yutong.zhao/htmls/Winnipeg-real-estate-open-data/Winnipeg_real_estate_open_data/2016/sales_book_market_region_7.pdf successfully transfered!\n",
      " 2023-08-30 14:29:27,515 - INFO - file /home/yutong.zhao/htmls/Winnipeg-real-estate-open-data/Winnipeg_real_estate_open_data/2016/sales_book_market_region_8.pdf successfully transfered!\n",
      " 2023-08-30 14:29:31,814 - INFO - file /home/yutong.zhao/htmls/Winnipeg-real-estate-open-data/Winnipeg_real_estate_open_data/2016/sales_book_market_region_9.pdf successfully transfered!\n",
      " 2023-08-30 14:29:41,680 - INFO - file /home/yutong.zhao/htmls/Winnipeg-real-estate-open-data/Winnipeg_real_estate_open_data/2016/sales_book_market_region_10.pdf successfully transfered!\n",
      " 2023-08-30 14:29:59,053 - INFO - file /home/yutong.zhao/htmls/Winnipeg-real-estate-open-data/Winnipeg_real_estate_open_data/2016/sales_book_condominium.pdf successfully transfered!\n",
      " 2023-08-30 14:30:07,774 - INFO - file /home/yutong.zhao/htmls/Winnipeg-real-estate-open-data/Winnipeg_real_estate_open_data/2018/sales_book_market_region_1.pdf successfully transfered!\n",
      " 2023-08-30 14:30:18,399 - INFO - file /home/yutong.zhao/htmls/Winnipeg-real-estate-open-data/Winnipeg_real_estate_open_data/2018/sales_book_market_region_2.pdf successfully transfered!\n",
      " 2023-08-30 14:30:31,520 - INFO - file /home/yutong.zhao/htmls/Winnipeg-real-estate-open-data/Winnipeg_real_estate_open_data/2018/sales_book_market_region_3.pdf successfully transfered!\n",
      " 2023-08-30 14:30:43,853 - INFO - file /home/yutong.zhao/htmls/Winnipeg-real-estate-open-data/Winnipeg_real_estate_open_data/2018/sales_book_market_region_4.pdf successfully transfered!\n",
      " 2023-08-30 14:30:52,368 - INFO - file /home/yutong.zhao/htmls/Winnipeg-real-estate-open-data/Winnipeg_real_estate_open_data/2018/sales_book_market_region_5.pdf successfully transfered!\n",
      " 2023-08-30 14:30:56,413 - INFO - file /home/yutong.zhao/htmls/Winnipeg-real-estate-open-data/Winnipeg_real_estate_open_data/2018/sales_book_market_region_6.pdf successfully transfered!\n",
      " 2023-08-30 14:31:05,667 - INFO - file /home/yutong.zhao/htmls/Winnipeg-real-estate-open-data/Winnipeg_real_estate_open_data/2018/sales_book_market_region_7.pdf successfully transfered!\n",
      " 2023-08-30 14:31:19,077 - INFO - file /home/yutong.zhao/htmls/Winnipeg-real-estate-open-data/Winnipeg_real_estate_open_data/2018/sales_book_market_region_8.pdf successfully transfered!\n",
      " 2023-08-30 14:31:24,361 - INFO - file /home/yutong.zhao/htmls/Winnipeg-real-estate-open-data/Winnipeg_real_estate_open_data/2018/sales_book_market_region_9.pdf successfully transfered!\n",
      " 2023-08-30 14:31:37,584 - INFO - file /home/yutong.zhao/htmls/Winnipeg-real-estate-open-data/Winnipeg_real_estate_open_data/2018/sales_book_market_region_10.pdf successfully transfered!\n",
      " 2023-08-30 14:31:53,709 - INFO - file /home/yutong.zhao/htmls/Winnipeg-real-estate-open-data/Winnipeg_real_estate_open_data/2018/sales_book_condominium.pdf successfully transfered!\n",
      " 2023-08-30 14:32:02,459 - INFO - file /home/yutong.zhao/htmls/Winnipeg-real-estate-open-data/Winnipeg_real_estate_open_data/2021/sales_book_market_region_1.pdf successfully transfered!\n",
      " 2023-08-30 14:32:13,714 - INFO - file /home/yutong.zhao/htmls/Winnipeg-real-estate-open-data/Winnipeg_real_estate_open_data/2021/sales_book_market_region_2.pdf successfully transfered!\n",
      " 2023-08-30 14:32:27,671 - INFO - file /home/yutong.zhao/htmls/Winnipeg-real-estate-open-data/Winnipeg_real_estate_open_data/2021/sales_book_market_region_3.pdf successfully transfered!\n",
      " 2023-08-30 14:32:40,006 - INFO - file /home/yutong.zhao/htmls/Winnipeg-real-estate-open-data/Winnipeg_real_estate_open_data/2021/sales_book_market_region_4.pdf successfully transfered!\n",
      " 2023-08-30 14:32:48,873 - INFO - file /home/yutong.zhao/htmls/Winnipeg-real-estate-open-data/Winnipeg_real_estate_open_data/2021/sales_book_market_region_5.pdf successfully transfered!\n",
      " 2023-08-30 14:32:53,256 - INFO - file /home/yutong.zhao/htmls/Winnipeg-real-estate-open-data/Winnipeg_real_estate_open_data/2021/sales_book_market_region_6.pdf successfully transfered!\n",
      " 2023-08-30 14:33:02,568 - INFO - file /home/yutong.zhao/htmls/Winnipeg-real-estate-open-data/Winnipeg_real_estate_open_data/2021/sales_book_market_region_7.pdf successfully transfered!\n",
      " 2023-08-30 14:33:18,144 - INFO - file /home/yutong.zhao/htmls/Winnipeg-real-estate-open-data/Winnipeg_real_estate_open_data/2021/sales_book_market_region_8.pdf successfully transfered!\n",
      " 2023-08-30 14:33:24,469 - INFO - file /home/yutong.zhao/htmls/Winnipeg-real-estate-open-data/Winnipeg_real_estate_open_data/2021/sales_book_market_region_9.pdf successfully transfered!\n",
      " 2023-08-30 14:33:38,541 - INFO - file /home/yutong.zhao/htmls/Winnipeg-real-estate-open-data/Winnipeg_real_estate_open_data/2021/sales_book_market_region_10.pdf successfully transfered!\n",
      " 2023-08-30 14:33:54,680 - INFO - file /home/yutong.zhao/htmls/Winnipeg-real-estate-open-data/Winnipeg_real_estate_open_data/2021/sales_book_condominium.pdf successfully transfered!\n"
     ]
    }
   ],
   "source": [
    "dcfg.full_salebooks_transfer(ignore_exist=True)"
   ]
  }
 ],
 "metadata": {
  "kernelspec": {
   "display_name": "Python 3",
   "language": "python",
   "name": "python3"
  },
  "language_info": {
   "codemirror_mode": {
    "name": "ipython",
    "version": 3
   },
   "file_extension": ".py",
   "mimetype": "text/x-python",
   "name": "python",
   "nbconvert_exporter": "python",
   "pygments_lexer": "ipython3",
   "version": "3.8.10"
  }
 },
 "nbformat": 4,
 "nbformat_minor": 4
}
